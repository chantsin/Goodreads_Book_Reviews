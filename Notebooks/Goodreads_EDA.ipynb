{
 "cells": [
  {
   "cell_type": "markdown",
   "id": "df500c26-ab54-4bef-a844-bd3e9ba525c3",
   "metadata": {},
   "source": [
    "# Goodreads Books Reviews\n",
    "\n",
    "**Authors: Tilova, Calvin, Clement**\n",
    "\n",
    "---\n",
    "\n",
    "### Introduction\n",
    "\n",
    "Our goal is to perform a sentiment analysis on the Goodreads dataset where we will predict the book's rating based on the reviews.\n",
    "\n",
    "https://www.kaggle.com/competitions/goodreads-books-reviews-290312/overview"
   ]
  },
  {
   "cell_type": "markdown",
   "id": "5096e233-8404-4223-846d-7ddb4782b023",
   "metadata": {
    "jp-MarkdownHeadingCollapsed": true
   },
   "source": [
    "### Data Dictionary For This Notebook:\n",
    "\n",
    "---\n",
    "| Column | Description                                  |Data Type|\n",
    "|-------|--------------------------------------------|-------|\n",
    "| rating (**Dependant Variable**)| Rating between 0-5 | integer |\n",
    "| review_text | The book review           | object |"
   ]
  },
  {
   "cell_type": "markdown",
   "id": "45ad081f-c9f5-4c81-87fb-f5d870228a7e",
   "metadata": {
    "tags": []
   },
   "source": [
    "## Table of Contents\n",
    "\n",
    "---\n",
    "\n",
    "1. [Data Wrangling](#wrangle)"
   ]
  },
  {
   "cell_type": "markdown",
   "id": "93c0848d-ef44-4f99-b9c5-52e7bc9517f6",
   "metadata": {},
   "source": [
    "**Importing Libraries**"
   ]
  },
  {
   "cell_type": "code",
   "execution_count": 1,
   "id": "66c14268-9c8f-4a51-bc16-f088731352da",
   "metadata": {
    "tags": []
   },
   "outputs": [],
   "source": [
    "import numpy as np # linear algebra\n",
    "import pandas as pd # data processing, CSV file I/O (e.g. pd.read_csv)\n",
    "\n",
    "# data visualization\n",
    "import matplotlib.pyplot as plt\n",
    "import seaborn as sns\n",
    "\n",
    "#sk-learn text preprocessing\n",
    "from sklearn.model_selection import train_test_split\n",
    "from sklearn.feature_extraction.text import CountVectorizer\n",
    "\n",
    "# scalars\n",
    "from sklearn.preprocessing import StandardScaler\n",
    "\n",
    "# modelling\n",
    "from sklearn.linear_model import LogisticRegression\n",
    "\n",
    "# model metrics\n",
    "from sklearn.metrics import confusion_matrix, ConfusionMatrixDisplay, classification_report\n",
    "from sklearn.feature_extraction.text import TfidfVectorizer\n",
    "\n",
    "# ignores the filter warnings\n",
    "import warnings\n",
    "warnings.filterwarnings('ignore')"
   ]
  },
  {
   "cell_type": "markdown",
   "id": "a746671c-eba4-4f43-98e4-fd3e3ac047f8",
   "metadata": {},
   "source": [
    "<a id = 'wrangle'></a>\n",
    "\n",
    "### 1. Data Wrangling\n",
    "---\n",
    "Loading the CSVs files."
   ]
  },
  {
   "cell_type": "code",
   "execution_count": 2,
   "id": "3ba1acb6-1e9f-4138-8ea0-5121da3243b6",
   "metadata": {
    "tags": []
   },
   "outputs": [
    {
     "data": {
      "text/html": [
       "<div>\n",
       "<style scoped>\n",
       "    .dataframe tbody tr th:only-of-type {\n",
       "        vertical-align: middle;\n",
       "    }\n",
       "\n",
       "    .dataframe tbody tr th {\n",
       "        vertical-align: top;\n",
       "    }\n",
       "\n",
       "    .dataframe thead th {\n",
       "        text-align: right;\n",
       "    }\n",
       "</style>\n",
       "<table border=\"1\" class=\"dataframe\">\n",
       "  <thead>\n",
       "    <tr style=\"text-align: right;\">\n",
       "      <th></th>\n",
       "      <th>user_id</th>\n",
       "      <th>book_id</th>\n",
       "      <th>review_id</th>\n",
       "      <th>rating</th>\n",
       "      <th>review_text</th>\n",
       "      <th>date_added</th>\n",
       "      <th>date_updated</th>\n",
       "      <th>read_at</th>\n",
       "      <th>started_at</th>\n",
       "      <th>n_votes</th>\n",
       "      <th>n_comments</th>\n",
       "    </tr>\n",
       "  </thead>\n",
       "  <tbody>\n",
       "    <tr>\n",
       "      <th>0</th>\n",
       "      <td>8842281e1d1347389f2ab93d60773d4d</td>\n",
       "      <td>18245960</td>\n",
       "      <td>dfdbb7b0eb5a7e4c26d59a937e2e5feb</td>\n",
       "      <td>5</td>\n",
       "      <td>This is a special book. It started slow for ab...</td>\n",
       "      <td>Sun Jul 30 07:44:10 -0700 2017</td>\n",
       "      <td>Wed Aug 30 00:00:26 -0700 2017</td>\n",
       "      <td>Sat Aug 26 12:05:52 -0700 2017</td>\n",
       "      <td>Tue Aug 15 13:23:18 -0700 2017</td>\n",
       "      <td>28</td>\n",
       "      <td>1</td>\n",
       "    </tr>\n",
       "    <tr>\n",
       "      <th>1</th>\n",
       "      <td>8842281e1d1347389f2ab93d60773d4d</td>\n",
       "      <td>16981</td>\n",
       "      <td>a5d2c3628987712d0e05c4f90798eb67</td>\n",
       "      <td>3</td>\n",
       "      <td>Recommended by Don Katz. Avail for free in Dec...</td>\n",
       "      <td>Mon Dec 05 10:46:44 -0800 2016</td>\n",
       "      <td>Wed Mar 22 11:37:04 -0700 2017</td>\n",
       "      <td>NaN</td>\n",
       "      <td>NaN</td>\n",
       "      <td>1</td>\n",
       "      <td>0</td>\n",
       "    </tr>\n",
       "    <tr>\n",
       "      <th>2</th>\n",
       "      <td>8842281e1d1347389f2ab93d60773d4d</td>\n",
       "      <td>28684704</td>\n",
       "      <td>2ede853b14dc4583f96cf5d120af636f</td>\n",
       "      <td>3</td>\n",
       "      <td>A fun, fast paced science fiction thriller. I ...</td>\n",
       "      <td>Tue Nov 15 11:29:22 -0800 2016</td>\n",
       "      <td>Mon Mar 20 23:40:27 -0700 2017</td>\n",
       "      <td>Sat Mar 18 23:22:42 -0700 2017</td>\n",
       "      <td>Fri Mar 17 23:45:40 -0700 2017</td>\n",
       "      <td>22</td>\n",
       "      <td>0</td>\n",
       "    </tr>\n",
       "    <tr>\n",
       "      <th>3</th>\n",
       "      <td>8842281e1d1347389f2ab93d60773d4d</td>\n",
       "      <td>27161156</td>\n",
       "      <td>ced5675e55cd9d38a524743f5c40996e</td>\n",
       "      <td>0</td>\n",
       "      <td>Recommended reading to understand what is goin...</td>\n",
       "      <td>Wed Nov 09 17:37:04 -0800 2016</td>\n",
       "      <td>Wed Nov 09 17:38:20 -0800 2016</td>\n",
       "      <td>NaN</td>\n",
       "      <td>NaN</td>\n",
       "      <td>5</td>\n",
       "      <td>1</td>\n",
       "    </tr>\n",
       "    <tr>\n",
       "      <th>4</th>\n",
       "      <td>8842281e1d1347389f2ab93d60773d4d</td>\n",
       "      <td>25884323</td>\n",
       "      <td>332732725863131279a8e345b63ac33e</td>\n",
       "      <td>4</td>\n",
       "      <td>I really enjoyed this book, and there is a lot...</td>\n",
       "      <td>Mon Apr 25 09:31:23 -0700 2016</td>\n",
       "      <td>Mon Apr 25 09:31:23 -0700 2016</td>\n",
       "      <td>Sun Jun 26 00:00:00 -0700 2016</td>\n",
       "      <td>Sat May 28 00:00:00 -0700 2016</td>\n",
       "      <td>9</td>\n",
       "      <td>1</td>\n",
       "    </tr>\n",
       "  </tbody>\n",
       "</table>\n",
       "</div>"
      ],
      "text/plain": [
       "                            user_id   book_id  \\\n",
       "0  8842281e1d1347389f2ab93d60773d4d  18245960   \n",
       "1  8842281e1d1347389f2ab93d60773d4d     16981   \n",
       "2  8842281e1d1347389f2ab93d60773d4d  28684704   \n",
       "3  8842281e1d1347389f2ab93d60773d4d  27161156   \n",
       "4  8842281e1d1347389f2ab93d60773d4d  25884323   \n",
       "\n",
       "                          review_id  rating  \\\n",
       "0  dfdbb7b0eb5a7e4c26d59a937e2e5feb       5   \n",
       "1  a5d2c3628987712d0e05c4f90798eb67       3   \n",
       "2  2ede853b14dc4583f96cf5d120af636f       3   \n",
       "3  ced5675e55cd9d38a524743f5c40996e       0   \n",
       "4  332732725863131279a8e345b63ac33e       4   \n",
       "\n",
       "                                         review_text  \\\n",
       "0  This is a special book. It started slow for ab...   \n",
       "1  Recommended by Don Katz. Avail for free in Dec...   \n",
       "2  A fun, fast paced science fiction thriller. I ...   \n",
       "3  Recommended reading to understand what is goin...   \n",
       "4  I really enjoyed this book, and there is a lot...   \n",
       "\n",
       "                       date_added                    date_updated  \\\n",
       "0  Sun Jul 30 07:44:10 -0700 2017  Wed Aug 30 00:00:26 -0700 2017   \n",
       "1  Mon Dec 05 10:46:44 -0800 2016  Wed Mar 22 11:37:04 -0700 2017   \n",
       "2  Tue Nov 15 11:29:22 -0800 2016  Mon Mar 20 23:40:27 -0700 2017   \n",
       "3  Wed Nov 09 17:37:04 -0800 2016  Wed Nov 09 17:38:20 -0800 2016   \n",
       "4  Mon Apr 25 09:31:23 -0700 2016  Mon Apr 25 09:31:23 -0700 2016   \n",
       "\n",
       "                          read_at                      started_at  n_votes  \\\n",
       "0  Sat Aug 26 12:05:52 -0700 2017  Tue Aug 15 13:23:18 -0700 2017       28   \n",
       "1                             NaN                             NaN        1   \n",
       "2  Sat Mar 18 23:22:42 -0700 2017  Fri Mar 17 23:45:40 -0700 2017       22   \n",
       "3                             NaN                             NaN        5   \n",
       "4  Sun Jun 26 00:00:00 -0700 2016  Sat May 28 00:00:00 -0700 2016        9   \n",
       "\n",
       "   n_comments  \n",
       "0           1  \n",
       "1           0  \n",
       "2           0  \n",
       "3           1  \n",
       "4           1  "
      ]
     },
     "execution_count": 2,
     "metadata": {},
     "output_type": "execute_result"
    }
   ],
   "source": [
    "df_train = pd.read_csv('../data/goodreads_train.csv')\n",
    "\n",
    "# First 5 rows of dataset\n",
    "df_train.head()"
   ]
  },
  {
   "cell_type": "markdown",
   "id": "d83edc50-0029-4783-bccd-8179aac8faa1",
   "metadata": {},
   "source": [
    "We can remove the following columns `user_id`, `book_id`, and `review_id` since they do not provide any meaningful insights into predicting the rating."
   ]
  },
  {
   "cell_type": "code",
   "execution_count": 3,
   "id": "38c58889-8b1c-4499-8c75-602961055b36",
   "metadata": {
    "tags": []
   },
   "outputs": [
    {
     "name": "stdout",
     "output_type": "stream",
     "text": [
      "<class 'pandas.core.frame.DataFrame'>\n",
      "RangeIndex: 900000 entries, 0 to 899999\n",
      "Data columns (total 8 columns):\n",
      " #   Column        Non-Null Count   Dtype \n",
      "---  ------        --------------   ----- \n",
      " 0   rating        900000 non-null  int64 \n",
      " 1   review_text   900000 non-null  object\n",
      " 2   date_added    900000 non-null  object\n",
      " 3   date_updated  900000 non-null  object\n",
      " 4   read_at       808234 non-null  object\n",
      " 5   started_at    625703 non-null  object\n",
      " 6   n_votes       900000 non-null  int64 \n",
      " 7   n_comments    900000 non-null  int64 \n",
      "dtypes: int64(3), object(5)\n",
      "memory usage: 54.9+ MB\n"
     ]
    }
   ],
   "source": [
    "df_train.drop(['user_id', 'book_id', 'review_id'], axis=1, inplace=True)\n",
    "\n",
    "# sanity check\n",
    "df_train.info()"
   ]
  },
  {
   "cell_type": "markdown",
   "id": "5092a125-dc5c-4bd6-be74-9234947b809e",
   "metadata": {},
   "source": [
    "There seems to be missing values in the `read_at` and `started_at` columns."
   ]
  },
  {
   "cell_type": "code",
   "execution_count": 9,
   "id": "f95d2d22-b00f-49cb-9b15-1f6a45908070",
   "metadata": {
    "tags": []
   },
   "outputs": [
    {
     "data": {
      "text/plain": [
       "(900000, 8)"
      ]
     },
     "execution_count": 9,
     "metadata": {},
     "output_type": "execute_result"
    }
   ],
   "source": [
    "# size of the dataset\n",
    "df_train.shape"
   ]
  },
  {
   "cell_type": "code",
   "execution_count": 10,
   "id": "d00f9b7c-fdd2-405d-a622-75c8155375fe",
   "metadata": {
    "tags": []
   },
   "outputs": [
    {
     "data": {
      "text/html": [
       "<div>\n",
       "<style scoped>\n",
       "    .dataframe tbody tr th:only-of-type {\n",
       "        vertical-align: middle;\n",
       "    }\n",
       "\n",
       "    .dataframe tbody tr th {\n",
       "        vertical-align: top;\n",
       "    }\n",
       "\n",
       "    .dataframe thead th {\n",
       "        text-align: right;\n",
       "    }\n",
       "</style>\n",
       "<table border=\"1\" class=\"dataframe\">\n",
       "  <thead>\n",
       "    <tr style=\"text-align: right;\">\n",
       "      <th></th>\n",
       "      <th>rating</th>\n",
       "      <th>n_votes</th>\n",
       "      <th>n_comments</th>\n",
       "    </tr>\n",
       "  </thead>\n",
       "  <tbody>\n",
       "    <tr>\n",
       "      <th>count</th>\n",
       "      <td>900000.000000</td>\n",
       "      <td>900000.000000</td>\n",
       "      <td>900000.000000</td>\n",
       "    </tr>\n",
       "    <tr>\n",
       "      <th>mean</th>\n",
       "      <td>3.689639</td>\n",
       "      <td>3.294381</td>\n",
       "      <td>1.016656</td>\n",
       "    </tr>\n",
       "    <tr>\n",
       "      <th>std</th>\n",
       "      <td>1.252583</td>\n",
       "      <td>17.873553</td>\n",
       "      <td>5.963821</td>\n",
       "    </tr>\n",
       "    <tr>\n",
       "      <th>min</th>\n",
       "      <td>0.000000</td>\n",
       "      <td>-3.000000</td>\n",
       "      <td>-1.000000</td>\n",
       "    </tr>\n",
       "    <tr>\n",
       "      <th>25%</th>\n",
       "      <td>3.000000</td>\n",
       "      <td>0.000000</td>\n",
       "      <td>0.000000</td>\n",
       "    </tr>\n",
       "    <tr>\n",
       "      <th>50%</th>\n",
       "      <td>4.000000</td>\n",
       "      <td>0.000000</td>\n",
       "      <td>0.000000</td>\n",
       "    </tr>\n",
       "    <tr>\n",
       "      <th>75%</th>\n",
       "      <td>5.000000</td>\n",
       "      <td>2.000000</td>\n",
       "      <td>0.000000</td>\n",
       "    </tr>\n",
       "    <tr>\n",
       "      <th>max</th>\n",
       "      <td>5.000000</td>\n",
       "      <td>3222.000000</td>\n",
       "      <td>1335.000000</td>\n",
       "    </tr>\n",
       "  </tbody>\n",
       "</table>\n",
       "</div>"
      ],
      "text/plain": [
       "              rating        n_votes     n_comments\n",
       "count  900000.000000  900000.000000  900000.000000\n",
       "mean        3.689639       3.294381       1.016656\n",
       "std         1.252583      17.873553       5.963821\n",
       "min         0.000000      -3.000000      -1.000000\n",
       "25%         3.000000       0.000000       0.000000\n",
       "50%         4.000000       0.000000       0.000000\n",
       "75%         5.000000       2.000000       0.000000\n",
       "max         5.000000    3222.000000    1335.000000"
      ]
     },
     "execution_count": 10,
     "metadata": {},
     "output_type": "execute_result"
    }
   ],
   "source": [
    "# Let's look at the summary statistics of the dataset\n",
    "df_train.describe()"
   ]
  },
  {
   "cell_type": "markdown",
   "id": "6b407649-2767-4117-a766-5483a9a5a570",
   "metadata": {},
   "source": [
    "- The `rating` column seems to be pretty evenly distributed due to the mean average of 3.7, but we should analyze this further in a graph.\n",
    "- Interesting to see how there are negative number of votes and comments.\n",
    "\n",
    "Let's check the number of duplicates next:"
   ]
  },
  {
   "cell_type": "code",
   "execution_count": 11,
   "id": "4e87d0a4-a51c-472e-b112-186250898ab6",
   "metadata": {},
   "outputs": [
    {
     "data": {
      "text/plain": [
       "0"
      ]
     },
     "execution_count": 11,
     "metadata": {},
     "output_type": "execute_result"
    }
   ],
   "source": [
    "df_train.duplicated().sum()"
   ]
  },
  {
   "cell_type": "markdown",
   "id": "2ca591ad-2427-4f8f-b816-018c49bcc4d8",
   "metadata": {},
   "source": [
    "Great to see that there are no duplicates, now lets check the distribution of the ratings."
   ]
  },
  {
   "cell_type": "code",
   "execution_count": 12,
   "id": "cbc9545d-a679-4fea-a90b-c7a5ea4202f5",
   "metadata": {
    "tags": []
   },
   "outputs": [
    {
     "name": "stdout",
     "output_type": "stream",
     "text": [
      "rating\n",
      "0     30988\n",
      "1     28718\n",
      "2     72627\n",
      "3    188972\n",
      "4    313688\n",
      "5    265007\n",
      "Name: count, dtype: int64\n"
     ]
    }
   ],
   "source": [
    "# Count the number of occurrences of each user rating in the 'rating' column\n",
    "\n",
    "rating_counts = df_train['rating'].value_counts().sort_index()\n",
    "\n",
    "print(rating_counts)"
   ]
  },
  {
   "cell_type": "markdown",
   "id": "28dfcd8a-73a1-4be9-afd4-3d9d1c19517d",
   "metadata": {},
   "source": [
    "There are a lot more books rated higher 3-5 than lower 0-2. This could affect our models! Let's visualize this on a bar chart."
   ]
  },
  {
   "cell_type": "code",
   "execution_count": 13,
   "id": "1003aeaf-3094-46a7-b396-9e0f70396ef5",
   "metadata": {
    "tags": []
   },
   "outputs": [
    {
     "data": {
      "image/png": "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",
      "text/plain": [
       "<Figure size 800x600 with 1 Axes>"
      ]
     },
     "metadata": {},
     "output_type": "display_data"
    }
   ],
   "source": [
    "# Visualize the distribution of target variable\n",
    "plt.figure(figsize=(8, 6))\n",
    "sns.countplot(x='rating', data=df_train, color='#c2c2f0')\n",
    "plt.title('Distribution of Rating')\n",
    "plt.show()"
   ]
  },
  {
   "cell_type": "markdown",
   "id": "928008e6-c66a-49d0-92a6-7381cf3c0eb7",
   "metadata": {},
   "source": [
    "### Visualize Feature Relationships"
   ]
  },
  {
   "cell_type": "markdown",
   "id": "fe883721-423c-469a-bbe8-ac090e3b7d36",
   "metadata": {},
   "source": [
    "**Tilova** you gotta rework this whole section!"
   ]
  },
  {
   "cell_type": "code",
   "execution_count": 14,
   "id": "b438206e-4460-431d-9625-425008a377cf",
   "metadata": {
    "tags": []
   },
   "outputs": [
    {
     "data": {
      "image/png": "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",
      "text/plain": [
       "<Figure size 640x480 with 1 Axes>"
      ]
     },
     "metadata": {},
     "output_type": "display_data"
    },
    {
     "data": {
      "image/png": "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",
      "text/plain": [
       "<Figure size 640x480 with 1 Axes>"
      ]
     },
     "metadata": {},
     "output_type": "display_data"
    },
    {
     "data": {
      "image/png": "iVBORw0KGgoAAAANSUhEUgAAAkgAAAHFCAYAAAAJ2AY0AAAAOXRFWHRTb2Z0d2FyZQBNYXRwbG90bGliIHZlcnNpb24zLjguMCwgaHR0cHM6Ly9tYXRwbG90bGliLm9yZy81sbWrAAAACXBIWXMAAA9hAAAPYQGoP6dpAABH0UlEQVR4nO3dd3RVVaLH8d9NpwYTICQQEnAEg6HEBBUQASkSEHTUBw5KURhFlBZBDcxIeY6MjvIYH03fUGQJgo7igDJAFKQIo1KiUqQGQglEWkIzQLLfH5ALNwWScG6uJ/l+1rqLufvuc+4+m0z4ucs5DmOMEQAAAJy8PN0AAACA3xoCEgAAQB4EJAAAgDwISAAAAHkQkAAAAPIgIAEAAORBQAIAAMiDgAQAAJAHAQkAACAPAhJwxezZs+VwOJyvgIAA1apVS+3atdOECROUnp6e75ixY8fK4XAU63vOnTunsWPH6uuvvy7WcQV9V2RkpB588MFinedG5s2bp0mTJhX4mcPh0NixYy39Pqt99dVXiouLU6VKleRwOPTZZ595ukmQNHXqVM2ePdvTzQCKzMfTDQB+a2bNmqXbb79dFy9eVHp6utauXas33nhDb731lhYsWKAOHTo46w4YMECdO3cu1vnPnTuncePGSZLatm1b5ONK8l0lMW/ePG3ZskXDhg3L99n69etVp04dt7ehpIwx6tGjhxo0aKBFixapUqVKatiwoaebBV0OSNWrV1e/fv083RSgSAhIQB7R0dGKi4tzvn/00Uc1fPhw3XvvvXrkkUe0a9cuhYSESJLq1Knj9sBw7tw5VaxYsVS+60buuecej37/jRw+fFgnTpzQ73//e7Vv397TzQFgY0yxAUVQt25dvf322zp9+rTeffddZ3lB014rVqxQ27ZtFRwcrAoVKqhu3bp69NFHde7cOe3bt081atSQJI0bN845nZf7X9W559u0aZMee+wx3XLLLbr11lsL/a5cCxcuVJMmTRQQEKD69evrnXfecfk8d/pw3759LuVff/21HA6Hc7qvbdu2+uKLL7R//36X6cZcBU2xbdmyRQ899JBuueUWBQQEqFmzZnr//fcL/J4PP/xQo0ePVlhYmKpWraoOHTpox44dhXf8NdauXav27durSpUqqlixolq2bKkvvvjC+fnYsWOdAfLll1+Ww+FQZGRkoeezok3XOnTokJ555hmFh4fLz89PYWFheuyxx3T06FFnndTUVD355JOqWbOm/P39FRUVpbfffls5OTnOOvv27ZPD4dDf/vY3vfHGG4qMjFSFChXUtm1b7dy5UxcvXtQrr7yisLAwBQYG6ve//32+6d/cqdfPP/9cMTExqlChgqKiovT5559LuvzzEBUVpUqVKumuu+7Shg0b8l3Phg0b1L17dwUFBSkgIEAxMTH66KOPXOrk/lytXLlSzz33nKpXr67g4GA98sgjOnz4sEt7tm7dqlWrVjl/pnL/bnJycvTaa6+pYcOGqlChgqpVq6YmTZro73//e7H/DgArMYIEFFGXLl3k7e2t1atXF1pn37596tq1q1q3bq2ZM2eqWrVqOnTokJYuXaoLFy4oNDRUS5cuVefOndW/f38NGDBAkpyhKdcjjzyixx9/XAMHDtTZs2ev267k5GQNGzZMY8eOVa1atTR37lwNHTpUFy5c0IgRI4p1jVOnTtUzzzyjPXv2aOHChTesv2PHDrVs2VI1a9bUO++8o+DgYH3wwQfq16+fjh49qpdeesml/qhRo9SqVSv94x//UGZmpl5++WV169ZN27dvl7e3d6Hfs2rVKnXs2FFNmjTRjBkz5O/vr6lTp6pbt2768MMP1bNnTw0YMEBNmzbVI488osGDB6tXr17y9/e/4TWUtE3XOnTokJo3b66LFy9q1KhRatKkiY4fP65ly5bp5MmTCgkJ0S+//KKWLVvqwoUL+u///m9FRkbq888/14gRI7Rnzx5NnTrV5ZxTpkxRkyZNNGXKFJ06dUovvviiunXrprvvvlu+vr6aOXOm9u/frxEjRmjAgAFatGiRy/E//PCDEhMTNXr0aAUGBmrcuHF65JFHlJiYqK+++kqvv/66HA6HXn75ZT344INKSUlRhQoVJEkrV65U586ddffdd2v69OkKDAzU/Pnz1bNnT507dy7fNNmAAQPUtWtXzZs3TwcOHNDIkSP15JNPasWKFZIuB/jHHntMgYGBzuvM/bt58803NXbsWP3pT3/Sfffdp4sXL+rnn3/WqVOnitT3gNsYAMYYY2bNmmUkme+//77QOiEhISYqKsr5fsyYMeba/xv985//NJJMcnJyoef45ZdfjCQzZsyYfJ/lnu/VV18t9LNrRUREGIfDke/7OnbsaKpWrWrOnj3rcm0pKSku9VauXGkkmZUrVzrLunbtaiIiIgpse952P/7448bf39+kpqa61IuPjzcVK1Y0p06dcvmeLl26uNT76KOPjCSzfv36Ar8v1z333GNq1qxpTp8+7Sy7dOmSiY6ONnXq1DE5OTnGGGNSUlKMJPO3v/3tuuezok3Xevrpp42vr6/Ztm1boXVeeeUVI8l8++23LuXPPfeccTgcZseOHS7X0LRpU5Odne2sN2nSJCPJdO/e3eX4YcOGGUkmIyPDWRYREWEqVKhgDh486CxLTk42kkxoaKjz58IYYz777DMjySxatMhZdvvtt5uYmBhz8eJFl+968MEHTWhoqLNduT9XgwYNcqn35ptvGkkmLS3NWXbHHXeYNm3a5OuXBx980DRr1qzgTgM8qFxPsa1evVrdunVTWFhYiXe7GGP01ltvqUGDBvL391d4eLhef/116xuL3wRjzHU/b9asmfz8/PTMM8/o/fff1969e0v0PY8++miR695xxx1q2rSpS1mvXr2UmZmpTZs2lej7i2rFihVq3769wsPDXcr79eunc+fOaf369S7l3bt3d3nfpEkTSdL+/fsL/Y6zZ8/q22+/1WOPPabKlSs7y729vdW7d28dPHiwRFNiN9OmvP7973+rXbt2ioqKKrTOihUr1KhRI911110u5f369ZMxxjnakqtLly7y8rr6Kzr33F27dnWpl1uemprqUt6sWTPVrl07X722bduqYsWK+cpzr3f37t36+eef9cQTT0iSLl265Hx16dJFaWlp+fr7Zvrwrrvu0g8//KBBgwZp2bJlyszMvOExQGko1wHp7Nmzatq0qSZPnlzicwwdOlT/+Mc/9NZbb+nnn3/W4sWL8/0CRNlw9uxZHT9+XGFhYYXWufXWW/Xll1+qZs2aev7553Xrrbfq1ltvLfZ6itDQ0CLXrVWrVqFlx48fL9b3Ftfx48cLbGtuH+X9/uDgYJf3udMs58+fL/Q7Tp48KWNMsb6nOErSprx++eWXGy6gL25fBQUFubz38/O7bvmvv/5qyfG5a6ZGjBghX19fl9egQYMkSceOHXM5x830YWJiot566y395z//UXx8vIKDg9W+ffsC10UBpalcr0GKj49XfHx8oZ9fuHBBf/rTnzR37lydOnVK0dHReuONN5xbs7dv365p06Zpy5YtbCUuB7744gtlZ2ffcGt+69at1bp1a2VnZ2vDhg363//9Xw0bNkwhISF6/PHHi/Rdxbm30pEjRwoty/2HKyAgQJKUlZXlUi/vP3TFFRwcrLS0tHzluQt0q1evflPnl6RbbrlFXl5ebv+em1GjRg0dPHjwunVKo6+skNuOxMREPfLIIwXWsfL3nY+PjxISEpSQkKBTp07pyy+/1KhRo/TAAw/owIEDLqNdQGkq1yNIN/LUU0/pm2++0fz58/Xjjz/qv/7rv9S5c2ft2rVLkrR48WLVr19fn3/+uerVq6fIyEgNGDBAJ06c8HDLYbXU1FSNGDFCgYGBevbZZ4t0jLe3t+6++25NmTJFkpzTXSUZobierVu36ocffnApmzdvnqpUqaI777xTkpw7hn788UeXenkX9ua2r6hta9++vVasWOGyY0mS5syZo4oVK1pyW4BKlSrp7rvv1qeffurSrpycHH3wwQeqU6eOGjRocNPfczPi4+O1cuXK6071tW/fXtu2bcs37Tlnzhw5HA61a9fO3c0skoYNG+q2227TDz/8oLi4uAJfVapUKfZ5i/JzVa1aNT322GN6/vnndeLEiXy7LoHSVK5HkK5nz549+vDDD3Xw4EHnEPiIESO0dOlSzZo1S6+//rr27t2r/fv36+OPP9acOXOUnZ2t4cOH67HHHsu3ngD2sWXLFueai/T0dK1Zs0azZs2St7e3Fi5cmG/H2bWmT5+uFStWqGvXrqpbt65+/fVXzZw5U5KcN5isUqWKIiIi9K9//Uvt27dXUFCQqlevft0t6dcTFham7t27a+zYsQoNDdUHH3ygpKQkvfHGG87/+m7evLkaNmyoESNG6NKlS7rlllu0cOFCrV27Nt/5GjdurE8//VTTpk1TbGysvLy8XO4Lda0xY8bo888/V7t27fTqq68qKChIc+fO1RdffKE333xTgYGBJbqmvCZMmKCOHTuqXbt2GjFihPz8/DR16lRt2bJFH374YbHvZm618ePH69///rfuu+8+jRo1So0bN9apU6e0dOlSJSQk6Pbbb9fw4cM1Z84cde3aVePHj1dERIS++OILTZ06Vc8995zHQ9613n33XcXHx+uBBx5Qv379VLt2bZ04cULbt2/Xpk2b9PHHHxf7nI0bN9b8+fO1YMEC1a9fXwEBAWrcuLG6devmvPdYjRo1tH//fk2aNEkRERG67bbb3HB1QNEQkAqxadMmGWPy/dLKyspyTlvk5OQoKytLc+bMcdabMWOGYmNjtWPHDqbdbOqpp56SdHltRrVq1RQVFaWXX35ZAwYMuG44ki4vjF2+fLnGjBmjI0eOqHLlyoqOjtaiRYvUqVMnZ70ZM2Zo5MiR6t69u7KystS3b98SP4ahWbNmeuqppzRmzBjt2rVLYWFhmjhxooYPH+6s4+3trcWLF+uFF17QwIED5e/vr8cff1yTJ0/Ot+h36NCh2rp1q0aNGqWMjAwZYwpdnN6wYUOtW7dOo0aN0vPPP6/z588rKipKs2bNsvSOyW3atNGKFSs0ZswY9evXTzk5OWratKkWLVpk+aNWSqJ27dr67rvvNGbMGP31r3/V8ePHVaNGDd17773ONT81atTQunXrlJiYqMTERGVmZqp+/fp68803lZCQ4OErcNWuXTt99913+stf/qJhw4bp5MmTCg4OVqNGjdSjR48SnXPcuHFKS0vTH//4R50+fVoRERHat2+f2rVrp08++cR5m4VatWqpY8eO+vOf/yxfX1+LrwwoOoe50baccsLhcGjhwoV6+OGHJUkLFizQE088oa1bt+a7F0rlypVVq1YtjRkzRq+//rouXrzo/Oz8+fOqWLGili9fro4dO5bmJQAAAIswglSImJgYZWdnKz09Xa1bty6wTqtWrXTp0iXt2bPHebfjnTt3SpIiIiJKra0AAMBa5XoE6cyZM9q9e7eky4Fo4sSJateunYKCglS3bl09+eST+uabb/T2228rJiZGx44d04oVK9S4cWN16dJFOTk5at68uSpXrqxJkyYpJydHzz//vKpWrarly5d7+OoA3CxjjLKzs69bx9vb2+NroABYr1zvYtuwYYNiYmIUExMjSUpISFBMTIxeffVVSZef6t6nTx+9+OKLatiwobp3765vv/3WeVM8Ly8vLV68WNWrV9d9992nrl27KioqSvPnz/fYNQGwzvvvv5/vXkB5X6tWrfJ0MwG4QbkeQQKA6zl+/LhSUlKuW6dhw4Yl2vYO4LeNgAQAAJBHuZ5iAwAAKEi528WWk5Ojw4cPq0qVKiysBADAJowxOn36tMLCwlwe5Owu5S4gHT58ON+TxwEAgD0cOHDghg+HtkK5C0i5iykPHDigqlWrerg1AACgKDIzMxUeHl5qmyLKXUDKnVarWrUqAQkAAJspreUxLNIGAADIg4AEAACQBwEJAAAgDwISAABAHgQkAACAPAhIAAAAeRCQAAAA8iAgAQAA5EFAAgAAyIOABAAAkAcBCQAAIA8CEgAAQB4EJAAAgDx8PN2AsuLXi9n6eke6JKlzdKiHWwMAAG4GAckimecvauAHm+Tt5dCe1wlIAADYGVNsFnE4HJKk7Bzj4ZYAAICbRUCyiJfj6v82hpAEAICdEZAs4n1NQmIQCQAAeyMgWSR3ik2SchhBAgDA1ghIFrl2io2ABACAvRGQLOJ1zQgS+QgAAHsjIFnEiyk2AADKDAKSRa7JR2z1BwDA5ghIFmEXGwAAZQcBySKua5BISAAA2BkBySKuu9g81w4AAHDzCEgW4T5IAACUHQQkC+WOIhGQAACwNwKShXLXIeXkeLghAADgpng0IK1evVrdunVTWFiYHA6HPvvssxsek5WVpdGjRysiIkL+/v669dZbNXPmTPc3tgi8rgwhMYIEAIC9+Xjyy8+ePaumTZvqqaee0qOPPlqkY3r06KGjR49qxowZ+t3vfqf09HRdunTJzS0tGqbYAAAoGzwakOLj4xUfH1/k+kuXLtWqVau0d+9eBQUFSZIiIyPd1Lriy51iIx8BAGBvtlqDtGjRIsXFxenNN99U7dq11aBBA40YMULnz58v9JisrCxlZma6vNzFuQaJhAQAgK15dASpuPbu3au1a9cqICBACxcu1LFjxzRo0CCdOHGi0HVIEyZM0Lhx40qlfQ7nFFupfB0AAHATW40g5eTkyOFwaO7cubrrrrvUpUsXTZw4UbNnzy50FCkxMVEZGRnO14EDB9zWvtwRJJ7FBgCAvdlqBCk0NFS1a9dWYGCgsywqKkrGGB08eFC33XZbvmP8/f3l7+9fKu3LXaTNo0YAALA3W40gtWrVSocPH9aZM2ecZTt37pSXl5fq1KnjwZZd5u3c5u/hhgAAgJvi0YB05swZJScnKzk5WZKUkpKi5ORkpaamSro8PdanTx9n/V69eik4OFhPPfWUtm3bptWrV2vkyJF6+umnVaFCBU9cggsHi7QBACgTPBqQNmzYoJiYGMXExEiSEhISFBMTo1dffVWSlJaW5gxLklS5cmUlJSXp1KlTiouL0xNPPKFu3brpnXfe8Uj78+I+SAAAlA0eXYPUtm3b667XmT17dr6y22+/XUlJSW5sVclxHyQAAMoGW61B+q3jPkgAAJQNBCQL5d4HiW3+AADYGwHJQuxiAwCgbCAgWejqGiQSEgAAdkZAshCPGgEAoGwgIFmIRdoAAJQNBCQLcR8kAADKBgKShZwjSDkebggAALgpBCQLMcUGAEDZQECykNeV3iQgAQBgbwQkC/GoEQAAygYCkoUcTLEBAFAmEJAs5MV9kAAAKBMISBZikTYAAGUDAclCzhEkhpAAALA1ApKFro4gebghAADgphCQLMQUGwAAZQMByULcBwkAgLKBgGQh7oMEAEDZQECyEPdBAgCgbCAgWSh3F1s2q7QBALA1ApKFvJliAwCgTCAgWYgpNgAAygYCkoV41AgAAGUDAclC3AcJAICygYBkodz7IBkCEgAAtkZAslDuGiR2sQEAYG8EJAvxLDYAAMoGApKFvJ2LtElIAADYGQHJQjxqBACAssGjAWn16tXq1q2bwsLC5HA49NlnnxX52G+++UY+Pj5q1qyZ29pXXNwHCQCAssGjAens2bNq2rSpJk+eXKzjMjIy1KdPH7Vv395NLSsZ7oMEAEDZ4OPJL4+Pj1d8fHyxj3v22WfVq1cveXt7F2vUyd24DxIAAGWD7dYgzZo1S3v27NGYMWM83ZR8cu+DlMMQEgAAtubREaTi2rVrl1555RWtWbNGPj5Fa3pWVpaysrKc7zMzM93VPLb5AwBQRthmBCk7O1u9evXSuHHj1KBBgyIfN2HCBAUGBjpf4eHhbmsjU2wAAJQNtglIp0+f1oYNG/TCCy/Ix8dHPj4+Gj9+vH744Qf5+PhoxYoVBR6XmJiojIwM5+vAgQNua2PuIm0eNQIAgL3ZZoqtatWq+umnn1zKpk6dqhUrVuif//yn6tWrV+Bx/v7+8vf3L40mXrPNv1S+DgAAuIlHA9KZM2e0e/du5/uUlBQlJycrKChIdevWVWJiog4dOqQ5c+bIy8tL0dHRLsfXrFlTAQEB+co9hSk2AADKBo8GpA0bNqhdu3bO9wkJCZKkvn37avbs2UpLS1NqaqqnmldsuVNs2QQkAABszWHK2YKZzMxMBQYGKiMjQ1WrVrX03BOWbNe7q/fqmfvqa1SXKEvPDQBAeebOf78LYptF2nbgXIPEIiQAAGyNgGQhHjUCAEDZQECyEIu0AQAoGwhIFuI+SAAAlA0EJAvlrkFiFxsAAPZGQLIQz2IDAKBsICBZyPtKbzLFBgCAvRGQLHR1m7+HGwIAAG4KAclC7GIDAKBsICBZiPsgAQBQNhCQLJQ7gsQaJAAA7I2AZCEHD6sFAKBMICBZyNuLbf4AAJQFBCQLsUgbAICygYBkIR41AgBA2UBAshD3QQIAoGwgIFmIKTYAAMoGApKFrt4HiYAEAICdEZAsxMNqAQAoGwhIFvLyYooNAICygIBkIR41AgBA2UBAshCPGgEAoGwgIFnIwSJtAADKBAKShby4DxIAAGUCAclCuQGJh9UCAGBvBCQLeV/pTdYgAQBgbwQkCzm4DxIAAGUCAclCPGoEAICygYBkIe6DBABA2UBAshD3QQIAoGwgIFko9z5I2QwhAQBgax4NSKtXr1a3bt0UFhYmh8Ohzz777Lr1P/30U3Xs2FE1atRQ1apV1aJFCy1btqx0GlsE3l4s0gYAoCzwaEA6e/asmjZtqsmTJxep/urVq9WxY0ctWbJEGzduVLt27dStWzdt3rzZzS0tGqbYAAAoG3w8+eXx8fGKj48vcv1Jkya5vH/99df1r3/9S4sXL1ZMTIzFrSs+HjUCAEDZ4NGAdLNycnJ0+vRpBQUFFVonKytLWVlZzveZmZlua48X90ECAKBMsPUi7bfffltnz55Vjx49Cq0zYcIEBQYGOl/h4eFuaw/3QQIAoGywbUD68MMPNXbsWC1YsEA1a9YstF5iYqIyMjKcrwMHDritTc77IDGEBACArdlyim3BggXq37+/Pv74Y3Xo0OG6df39/eXv718q7eJRIwAAlA22G0H68MMP1a9fP82bN09du3b1dHNcXN3mT0ICAMDOPDqCdObMGe3evdv5PiUlRcnJyQoKClLdunWVmJioQ4cOac6cOZIuh6M+ffro73//u+655x4dOXJEklShQgUFBgZ65BqulTvFRj4CAMDePDqCtGHDBsXExDi36CckJCgmJkavvvqqJCktLU2pqanO+u+++64uXbqk559/XqGhoc7X0KFDPdL+vFikDQBA2eDREaS2bdte96aKs2fPdnn/9ddfu7dBN4n7IAEAUDbYbg3Sbxn3QQIAoGwgIFnIGZBISAAA2BoByULeV3qTKTYAAOyNgGQh7oMEAEDZQECyELvYAAAoGwhIFuI+SAAAlA0EJAsxggQAQNlAQLJQ7n2QslmEBACArRGQLJT7LDYGkAAAsDcCkoWYYgMAoGwgIFmIR40AAFA2EJAsxKNGAAAoGwhIFsoNSJKu+xBeAADw20ZAspDX1XzETjYAAGyMgGQhxzUjSOQjAADsi4BkIW+vawMSCQkAALsiIFno2ik28hEAAPZFQLKQl4MRJAAAygICkoWuyUcEJAAAbIyAZCEvFmkDAFAmEJAs5BKQSEgAANgWAclCXkyxAQBQJhCQLORwOK55Hptn2wIAAEqOgGSx3Gk2HjUCAIB9EZAs5sUIEgAAtkdAslju40ZYgwQAgH0RkCyWO4LEw2oBALAvApLFrq5B8nBDAABAiRGQLObNFBsAALZHQLLY1W3+BCQAAOyKgGQxL6/cESQPNwQAAJSYRwPS6tWr1a1bN4WFhcnhcOizzz674TGrVq1SbGysAgICVL9+fU2fPt39DS0G7oMEAID9eTQgnT17Vk2bNtXkyZOLVD8lJUVdunRR69attXnzZo0aNUpDhgzRJ5984uaWFp1zFxsBCQAA2/Lx5JfHx8crPj6+yPWnT5+uunXratKkSZKkqKgobdiwQW+99ZYeffRRN7WyeJz3QcrxcEMAAECJ2WoN0vr169WpUyeXsgceeEAbNmzQxYsXCzwmKytLmZmZLi93YhcbAAD2Z6uAdOTIEYWEhLiUhYSE6NKlSzp27FiBx0yYMEGBgYHOV3h4uFvbmDvFRj4CAMC+bBWQpKtTWLlyF0PnLc+VmJiojIwM5+vAgQOl0j5GkAAAsC+PrkEqrlq1aunIkSMuZenp6fLx8VFwcHCBx/j7+8vf3780midJ8roSOQlIAADYl61GkFq0aKGkpCSXsuXLlysuLk6+vr4eapUrLwf3QQIAwO48GpDOnDmj5ORkJScnS7q8jT85OVmpqamSLk+P9enTx1l/4MCB2r9/vxISErR9+3bNnDlTM2bM0IgRIzzR/AJ5McUGAIDteXSKbcOGDWrXrp3zfUJCgiSpb9++mj17ttLS0pxhSZLq1aunJUuWaPjw4ZoyZYrCwsL0zjvv/Ga2+EtXF2nnMIQEAIBtlSgg1a9fX99//32+dT+nTp3SnXfeqb179xbpPG3btr3uHadnz56dr6xNmzbatGlTsdpbmphiAwDA/ko0xbZv3z5lZ2fnK8/KytKhQ4duulF2xqNGAACwv2KNIC1atMj5v5ctW6bAwEDn++zsbH311VeKjIy0rHF2lHu3AUaQAACwr2IFpIcffljS5Xv99O3b1+UzX19fRUZG6u2337ascXbEIm0AAOyvWAEp58oDxurVq6fvv/9e1atXd0uj7Cz3Pkg8rBYAAPsq0SLtlJQUq9tRZrAGCQAA+yvxNv+vvvpKX331ldLT050jS7lmzpx50w2zK+cUW84NKgIAgN+sEgWkcePGafz48YqLi1NoaGihz0Erj5z3QWIECQAA2ypRQJo+fbpmz56t3r17W90e2+M+SAAA2F+J7oN04cIFtWzZ0uq2lAmsQQIAwP5KFJAGDBigefPmWd2WMoH7IAEAYH8lmmL79ddf9d577+nLL79UkyZN5Ovr6/L5xIkTLWmcHeWOILHNHwAA+ypRQPrxxx/VrFkzSdKWLVtcPivvC7a9vZhiAwDA7koUkFauXGl1O8oMB7vYAACwvRLfBwkFu5D1qyRpb8o+bTLplpyzevXqqlu3riXnAgAAN1aigNSuXbvrTqWtWLGixA2ys9TUVK1evVr+kXdqzJixGrHlK0vOW6FiRf28fTshCQCAUlKigJS7/ijXxYsXlZycrC1btuR7iG15cuzYMWVfuiRJeqD3YEVWfv6mz3k0dY/mvjFSx44dIyABAFBKShSQ/ud//qfA8rFjx+rMmTM31SDbM5efMVKtZpjq1A70cGMAAEBJlOg+SIV58skny/Vz2CQ5H8LGGm0AAOzL0oC0fv16BQQEWHlK2zEyLn8CAAD7KdEU2yOPPOLy3hijtLQ0bdiwQX/+858taZhtGUaQAACwuxIFpMBA17U1Xl5eatiwocaPH69OnTpZ0jDbMrkjSAAAwK5KFJBmzZpldTvKDucIEhEJAAC7uqkbRW7cuFHbt2+Xw+FQo0aNFBMTY1W7bMswggQAgO2VKCClp6fr8ccf19dff61q1arJGKOMjAy1a9dO8+fPV40aNaxup33kBiQSEgAAtlWiXWyDBw9WZmamtm7dqhMnTujkyZPasmWLMjMzNWTIEKvbaC8m+/IfjCEBAGBbJRpBWrp0qb788ktFRUU5yxo1aqQpU6awSJsRJAAAbK9EI0g5OTny9fXNV+7r66ucKzdKLK9YgwQAgP2VKCDdf//9Gjp0qA4fPuwsO3TokIYPH6727dtb1jhburKLjYQEAIB9lSggTZ48WadPn1ZkZKRuvfVW/e53v1O9evV0+vRp/e///q/VbbQX5xQbCQkAALsq0Rqk8PBwbdq0SUlJSfr5559ljFGjRo3UoUMHq9tnP1dGkMr3RCMAAPZWrBGkFStWqFGjRsrMzJQkdezYUYMHD9aQIUPUvHlz3XHHHVqzZk2xGjB16lTVq1dPAQEBio2NveHxc+fOVdOmTVWxYkWFhobqqaee0vHjx4v1ne5kcphiAwDA7ooVkCZNmqQ//vGPqlq1ar7PAgMD9eyzz2rixIlFPt+CBQs0bNgwjR49Wps3b1br1q0VHx+v1NTUAuuvXbtWffr0Uf/+/bV161Z9/PHH+v777zVgwIDiXIab8bBaAADsrlgB6YcfflDnzp0L/bxTp07auHFjkc83ceJE9e/fXwMGDFBUVJQmTZqk8PBwTZs2rcD6//nPfxQZGakhQ4aoXr16uvfee/Xss89qw4YNxbkM92KbPwAAtlesgHT06NECt/fn8vHx0S+//FKkc124cEEbN27Md9+kTp06ad26dQUe07JlSx08eFBLliyRMUZHjx7VP//5T3Xt2rXoF+FmJvdZbB5uBwAAKLliBaTatWvrp59+KvTzH3/8UaGhoUU617Fjx5Sdna2QkBCX8pCQEB05cqTAY1q2bKm5c+eqZ8+e8vPzU61atVStWrXr7pzLyspSZmamy8ut2MUGAIDtFSsgdenSRa+++qp+/fXXfJ+dP39eY8aM0YMPPlisBjgcDpf3xph8Zbm2bdumIUOG6NVXX9XGjRu1dOlSpaSkaODAgYWef8KECQoMDHS+wsPDi9W+YssdQSIfAQBgW8Xa5v+nP/1Jn376qRo0aKAXXnhBDRs2lMPh0Pbt2zVlyhRlZ2dr9OjRRTpX9erV5e3tnW+0KD09Pd+oUq4JEyaoVatWGjlypCSpSZMmqlSpklq3bq3XXnutwNGrxMREJSQkON9nZma6NyRxJ20AAGyvWAEpJCRE69at03PPPafExETnNJLD4dADDzygqVOnFhpu8vLz81NsbKySkpL0+9//3lmelJSkhx56qMBjzp07Jx8f1yZ7e3tLKnxKy9/fX/7+/kVqkxWca5AYQgIAwLaKfaPIiIgILVmyRCdPntTu3btljNFtt92mW265pdhfnpCQoN69eysuLk4tWrTQe++9p9TUVOeUWWJiog4dOqQ5c+ZIkrp166Y//vGPmjZtmh544AGlpaVp2LBhuuuuuxQWFlbs73cLFmkDAGB7JbqTtiTdcsstat68+U19ec+ePXX8+HGNHz9eaWlpio6O1pIlSxQRESFJSktLc7knUr9+/XT69GlNnjxZL774oqpVq6b7779fb7zxxk21w1Js8wcAwPZKHJCsMmjQIA0aNKjAz2bPnp2vbPDgwRo8eLCbW3UTDDeKBADA7kr0sFoUzrCLDQAA2yMgWY0pNgAAbI+AZLWc3EXaJCQAAOyKgGS5ywGJfAQAgH0RkCxmuFEkAAC2R0CyGou0AQCwPQKS1djmDwCA7RGQrMYuNgAAbI+AZDGTk335TwISAAC2RUCyGlNsAADYHgHJckyxAQBgdwQkq+XuYvNwMwAAQMkRkCzmvA8SQ0gAANgWAclqjCABAGB7BCSrsc0fAADbIyBZzPCwWgAAbI+AZDlGkAAAsDsCktWurEFiAAkAAPsiIFnNeaNIAABgVwQki5ncXWzMsQEAYFsEJKsxggQAgO0RkKyWu4uNhAQAgG0RkKxm2OYPAIDdEZAsZtjmDwCA7RGQrMYaJAAAbI+AZDV2sQEAYHsEJKvxLDYAAGyPgGSxq89iAwAAdkVAshpTbAAA2B4ByWos0gYAwPYISJbjRpEAANidxwPS1KlTVa9ePQUEBCg2NlZr1qy5bv2srCyNHj1aERER8vf316233qqZM2eWUmtvjKk1AADsz8eTX75gwQINGzZMU6dOVatWrfTuu+8qPj5e27ZtU926dQs8pkePHjp69KhmzJih3/3ud0pPT9elS5dKueXXcSUg5RCUAACwLY8GpIkTJ6p///4aMGCAJGnSpElatmyZpk2bpgkTJuSrv3TpUq1atUp79+5VUFCQJCkyMrI0m3xjhik2AADszmNTbBcuXNDGjRvVqVMnl/JOnTpp3bp1BR6zaNEixcXF6c0331Tt2rXVoEEDjRgxQufPny+NJhdJ7jZ/AABgXx4bQTp27Jiys7MVEhLiUh4SEqIjR44UeMzevXu1du1aBQQEaOHChTp27JgGDRqkEydOFLoOKSsrS1lZWc73mZmZ1l1EQZw3imQICQAAu/L4Im2Hw+Hy3hiTryxXTk6OHA6H5s6dq7vuuktdunTRxIkTNXv27EJHkSZMmKDAwEDnKzw83PJrcGG4USQAAHbnsYBUvXp1eXt75xstSk9PzzeqlCs0NFS1a9dWYGCgsywqKkrGGB08eLDAYxITE5WRkeF8HThwwLqLKBCPGgEAwO48FpD8/PwUGxurpKQkl/KkpCS1bNmywGNatWqlw4cP68yZM86ynTt3ysvLS3Xq1CnwGH9/f1WtWtXl5U7GOYJEQgIAwK48OsWWkJCgf/zjH5o5c6a2b9+u4cOHKzU1VQMHDpR0efSnT58+zvq9evVScHCwnnrqKW3btk2rV6/WyJEj9fTTT6tChQqeugxXPKwWAADb8+g2/549e+r48eMaP3680tLSFB0drSVLligiIkKSlJaWptTUVGf9ypUrKykpSYMHD1ZcXJyCg4PVo0cPvfbaa566hPxy2OYPAIDdeTQgSdKgQYM0aNCgAj+bPXt2vrLbb78937TcbwpTbAAA2J7Hd7GVNYYpNgAAbI+AZLXcgOThZgAAgJIjIFnuyp20SUgAANgWAclquQ+rJSEBAGBbBCSLGR5WCwCA7RGQrHbNw2p5HhsAAPZEQLIaoQgAANsjIFnNXDuC5MF2AACAEiMgWezaaTXyEQAA9kRAstw1AYkhJAAAbImAZLVrp9g82AwAAFByBCSLmRzWIAEAYHcEJKu5rEEiIQEAYEcEJKuxiw0AANsjIFmNXWwAANgeAcly7GIDAMDuCEhucTkYkY8AALAnApIbOK78ST4CAMCeCEhu4AxIDCEBAGBLBCR3uJKQiEcAANgTAckNckeQSEgAANgTAckNWIMEAIC9EZDcKIc1SAAA2BIByQ2YYgMAwN4ISG7gYJE2AAC2RkByA7b5AwBgbwQkNyIeAQBgTwQkN3BOsZGQAACwJQKSG1zd5k9CAgDAjghIbsQIEgAA9kRAcoOri7Q92gwAAFBCHg9IU6dOVb169RQQEKDY2FitWbOmSMd988038vHxUbNmzdzbwBK4us2fhAQAgB15NCAtWLBAw4YN0+jRo7V582a1bt1a8fHxSk1Nve5xGRkZ6tOnj9q3b19KLS0ZRpAAALAnjwakiRMnqn///howYICioqI0adIkhYeHa9q0adc97tlnn1WvXr3UokWLUmpp8fAsNgAA7M1jAenChQvauHGjOnXq5FLeqVMnrVu3rtDjZs2apT179mjMmDFF+p6srCxlZma6vNyNR40AAGBvHgtIx44dU3Z2tkJCQlzKQ0JCdOTIkQKP2bVrl1555RXNnTtXPj4+RfqeCRMmKDAw0PkKDw+/6bbfiMNxORnxsFoAAOzJ44u0HQ6Hy3tjTL4yScrOzlavXr00btw4NWjQoMjnT0xMVEZGhvN14MCBm27zjXhdaf6lHAISAAB2VLRhGDeoXr26vL29840Wpaen5xtVkqTTp09rw4YN2rx5s1544QVJUk5Ojowx8vHx0fLly3X//ffnO87f31/+/v7uuYhCeDsDUk6pfi8AALCGx0aQ/Pz8FBsbq6SkJJfypKQktWzZMl/9qlWr6qefflJycrLzNXDgQDVs2FDJycm6++67S6vpN5QbkLKzGUECAMCOPDaCJEkJCQnq3bu34uLi1KJFC7333ntKTU3VwIEDJV2eHjt06JDmzJkjLy8vRUdHuxxfs2ZNBQQE5Cv3tNyAdJEpNgAAbMmjAalnz546fvy4xo8fr7S0NEVHR2vJkiWKiIiQJKWlpd3wnki/Rd5XFmlfymaKDQAAO/JoQJKkQYMGadCgQQV+Nnv27OseO3bsWI0dO9b6Rt0kbxZpAwBgax7fxVYWEZAAALA3ApIbsEgbAAB7IyC5Adv8AQCwNwKSG+Qu0r7ICBIAALZEQHIDRpAAALA3ApIbONcgsUgbAABbIiC5gXMEiSk2AABsiYDkBt5eV24UyQgSAAC2REByA9YgAQBgbwQkN2CKDQAAeyMguQF30gYAwN4ISG5wdQSJKTYAAOyIgOQGXg4WaQMAYGcEJDdgig0AAHsjILmBzzU3ijSGkAQAgN0QkNwgdwRJYhQJAAA7IiC5gUtAYqs/AAC2Q0ByA4dD8uJmkQAA2BYByU18vC53LVNsAADYDwHJTXyuzLMxxQYAgP0QkNzE58ocG1NsAADYDwHJTXy8r0yxMYIEAIDtEJDc5OoIEgEJAAC7ISC5iTMg8Tw2AABsh4DkJs4pNkaQAACwHQKSmzDFBgCAfRGQ3IQpNgAA7IuA5Cbe3owgAQBgVwQkN/HlTtoAANgWAclNrt5Jmyk2AADshoDkJjyLDQAA+/J4QJo6darq1aungIAAxcbGas2aNYXW/fTTT9WxY0fVqFFDVatWVYsWLbRs2bJSbG3RefMsNgAAbMujAWnBggUaNmyYRo8erc2bN6t169aKj49XampqgfVXr16tjh07asmSJdq4caPatWunbt26afPmzaXc8hvjWWwAANiXRwPSxIkT1b9/fw0YMEBRUVGaNGmSwsPDNW3atALrT5o0SS+99JKaN2+u2267Ta+//rpuu+02LV68uJRbfmO5ASmbKTYAAGzHYwHpwoUL2rhxozp16uRS3qlTJ61bt65I58jJydHp06cVFBRUaJ2srCxlZma6vEoDD6sFAMC+PBaQjh07puzsbIWEhLiUh4SE6MiRI0U6x9tvv62zZ8+qR48ehdaZMGGCAgMDna/w8PCbandRcSdtAADsy+OLtB0Oh8t7Y0y+soJ8+OGHGjt2rBYsWKCaNWsWWi8xMVEZGRnO14EDB266zUWRu83/Itv8AQCwHR9PfXH16tXl7e2db7QoPT0936hSXgsWLFD//v318ccfq0OHDtet6+/vL39//5tub3HlbvNnDRIAAPbjsREkPz8/xcbGKikpyaU8KSlJLVu2LPS4Dz/8UP369dO8efPUtWtXdzezxJhiAwDAvjw2giRJCQkJ6t27t+Li4tSiRQu99957Sk1N1cCBAyVdnh47dOiQ5syZI+lyOOrTp4/+/ve/65577nGOPlWoUEGBgYEeu46CcCdtAADsy6MBqWfPnjp+/LjGjx+vtLQ0RUdHa8mSJYqIiJAkpaWludwT6d1339WlS5f0/PPP6/nnn3eW9+3bV7Nnzy7t5l8Xd9IGAMC+PBqQJGnQoEEaNGhQgZ/lDT1ff/21+xtkEabYAACwL4/vYiurcqfYsnOMcgwhCQAAOyEguUnuFJvETjYAAOyGgOQmuSNIEnfTBgDAbghIbuLlcOjKMiQeWAsAgM0QkNyInWwAANgTAcmNrt4LiYAEAICdEJDc6OpWf6bYAACwEwKSGzmn2BhBAgDAVghIbuScYmMNEgAAtkJAciPnFBvPYwMAwFYISG7k480uNgAA7IiA5EY8jw0AAHsiILkRU2wAANgTAcmNvFmkDQCALRGQ3Iht/gAA2BMByY0qB/hIkk6du+DhlgAAgOIgILlRraoBkqQjmb96uCUAAKA4CEhuFFLVX5KU+eslnbtwycOtAQAARUVAciN/H28FVfSTJB3JYBQJAAC7ICC5WUjg5VEkptkAALAPApKbsQ4JAAD7ISC5Wa3AywHpaGaWjGG7PwAAdkBAcrPqlfzl4+XQhUs5OnnuoqebAwAAioCA5GZeXg7VrMI6JAAA7ISAVApyp9nYyQYAgD0QkEpB7kLtXUdPK+M802wAAPzWEZBKQb0alVSzir9+vZSjz388rIvZOZ5uEgAAuA4CUinw8fLSg01CVdHPW8fOXNCX246yow0AgN8wAlIpqRLgq66NQ+XlkHamn9HOo2c83SQAAFAIAlIpCqtWQXfVC5Ikrdr5i85fzPZwiwAAQEE8HpCmTp2qevXqKSAgQLGxsVqzZs11669atUqxsbEKCAhQ/fr1NX369FJqqTXiIoIUXMlP5y9ma/XOXzzdHAAAUACPBqQFCxZo2LBhGj16tDZv3qzWrVsrPj5eqampBdZPSUlRly5d1Lp1a23evFmjRo3SkCFD9Mknn5Ryy0vO28uhDlEhkqSfj5zWh9+latP+kzrz6yUPtwwAAOTyaECaOHGi+vfvrwEDBigqKkqTJk1SeHi4pk2bVmD96dOnq27dupo0aZKioqI0YMAAPf3003rrrbdKueU3p1ZggFreGiyHQ0o/naU1u49pxjcp+mTTQW1OPan0zF+Vk8MibgAAPMXHU1984cIFbdy4Ua+88opLeadOnbRu3boCj1m/fr06derkUvbAAw9oxowZunjxonx9fd3WXqs1jwzSHWFVtTv9jHYcOa3DGb/q4MnzOnjyvCTJISnA11vexleh/adq2LJfVPPbdapW0U+3VPRVUCU/+ft46fzFbF24lCMfby/5envJz8dL/j5e8vP2kq+3Qz7eXvJyOORwXD7n5T+vvHc4rpY5JC+H4/J3X1suh3KMkZHy7bxz5NZ3vr/ypxx53rt+Xhg29pUv/HWXL/z/u3zx9/FSh0Yhnm7GTfFYQDp27Jiys7MVEuLagSEhITpy5EiBxxw5cqTA+pcuXdKxY8cUGhqa75isrCxlZWU532dkZEiSMjMzb/YS8jlz5vLOtIO7tirr/LkiHVNJ0p1+0u1B0uFzXjqW5aUTWQ5dMg6dvdJsnyrVtS89U/vSrW8zAABWC67oo1Uvt7f0nLn/bpfWbXI8FpByOfIMKxhj8pXdqH5B5bkmTJigcePG5SsPDw8vblOL7KNJf3bbuQEA+K07ICnwdfec+/jx4woMDHTPya/hsYBUvXp1eXt75xstSk9PzzdKlKtWrVoF1vfx8VFwcHCBxyQmJiohIcH5PicnRydOnFBwcPB1g1hJZGZmKjw8XAcOHFDVqlUtPbcd0R9X0Reu6I+r6AtX9MdV9IWrjIwM1a1bV0FBQaXyfR4LSH5+foqNjVVSUpJ+//vfO8uTkpL00EMPFXhMixYttHjxYpey5cuXKy4urtD1R/7+/vL393cpq1at2s01/gaqVq3KD/M16I+r6AtX9MdV9IUr+uMq+sKVl1fp7C/z6C62hIQE/eMf/9DMmTO1fft2DR8+XKmpqRo4cKCky6M/ffr0cdYfOHCg9u/fr4SEBG3fvl0zZ87UjBkzNGLECE9dAgAAKIM8ugapZ8+eOn78uMaPH6+0tDRFR0dryZIlioiIkCSlpaW53BOpXr16WrJkiYYPH64pU6YoLCxM77zzjh599FFPXQIAACiDPL5Ie9CgQRo0aFCBn82ePTtfWZs2bbRp0yY3t6pk/P39NWbMmHxTeuUV/XEVfeGK/riKvnBFf1xFX7gq7f5wGB4rDwAA4MLjz2IDAAD4rSEgAQAA5EFAAgAAyIOABAAAkAcByUJTp05VvXr1FBAQoNjYWK1Zs8bTTbLUhAkT1Lx5c1WpUkU1a9bUww8/rB07drjUMcZo7NixCgsLU4UKFdS2bVtt3brVpU5WVpYGDx6s6tWrq1KlSurevbsOHjxYmpfiFhMmTJDD4dCwYcOcZeWpPw4dOqQnn3xSwcHBqlixopo1a6aNGzc6Py9PfXHp0iX96U9/Ur169VShQgXVr19f48ePV05OjrNOWe6P1atXq1u3bgoLC5PD4dBnn33m8rlV137y5En17t1bgYGBCgwMVO/evXXq1Ck3X13xXK8vLl68qJdfflmNGzdWpUqVFBYWpj59+ujw4cMu5ygrfSHd+GfjWs8++6wcDocmTZrkUl5q/WFgifnz5xtfX1/zf//3f2bbtm1m6NChplKlSmb//v2ebpplHnjgATNr1iyzZcsWk5ycbLp27Wrq1q1rzpw546zz17/+1VSpUsV88skn5qeffjI9e/Y0oaGhJjMz01ln4MCBpnbt2iYpKcls2rTJtGvXzjRt2tRcunTJE5dlie+++85ERkaaJk2amKFDhzrLy0t/nDhxwkRERJh+/fqZb7/91qSkpJgvv/zS7N6921mnvPSFMca89tprJjg42Hz++ecmJSXFfPzxx6Zy5cpm0qRJzjpluT+WLFliRo8ebT755BMjySxcuNDlc6uuvXPnziY6OtqsW7fOrFu3zkRHR5sHH3ywtC6zSK7XF6dOnTIdOnQwCxYsMD///LNZv369ufvuu01sbKzLOcpKXxhz45+NXAsXLjRNmzY1YWFh5n/+539cPiut/iAgWeSuu+4yAwcOdCm7/fbbzSuvvOKhFrlfenq6kWRWrVpljDEmJyfH1KpVy/z1r3911vn1119NYGCgmT59ujHm8i8EX19fM3/+fGedQ4cOGS8vL7N06dLSvQCLnD592tx2220mKSnJtGnTxhmQylN/vPzyy+bee+8t9PPy1BfGGNO1a1fz9NNPu5Q98sgj5sknnzTGlK/+yPuPoFXXvm3bNiPJ/Oc//3HWWb9+vZFkfv75ZzdfVclcLxDk+u6774wk539cl9W+MKbw/jh48KCpXbu22bJli4mIiHAJSKXZH0yxWeDChQvauHGjOnXq5FLeqVMnrVu3zkOtcr+MjAxJcj44MCUlRUeOHHHpB39/f7Vp08bZDxs3btTFixdd6oSFhSk6Otq2ffX888+ra9eu6tChg0t5eeqPRYsWKS4uTv/1X/+lmjVrKiYmRv/3f//n/Lw89YUk3Xvvvfrqq6+0c+dOSdIPP/ygtWvXqkuXLpLKX39cy6prX79+vQIDA3X33Xc769xzzz0KDAy0df9kZGTI4XA4nxla3voiJydHvXv31siRI3XHHXfk+7w0+8Pjd9IuC44dO6bs7GyFhIS4lIeEhOjIkSMeapV7GWOUkJCge++9V9HR0ZLkvNaC+mH//v3OOn5+frrlllvy1bFjX82fP1+bNm3S999/n++z8tQfe/fu1bRp05SQkKBRo0bpu+++05AhQ+Tv768+ffqUq76QpJdfflkZGRm6/fbb5e3trezsbP3lL3/RH/7wB0nl62cjL6uu/ciRI6pZs2a+89esWdO2/fPrr7/qlVdeUa9evZwPpy1vffHGG2/Ix8dHQ4YMKfDz0uwPApKFHA6Hy3tjTL6ysuKFF17Qjz/+qLVr1+b7rCT9YMe+OnDggIYOHarly5crICCg0HrloT9ycnIUFxen119/XZIUExOjrVu3atq0aS4PnC4PfSFJCxYs0AcffKB58+bpjjvuUHJysoYNG6awsDD17dvXWa+89EdBrLj2gurbtX8uXryoxx9/XDk5OZo6deoN65fFvti4caP+/ve/a9OmTcVutzv6gyk2C1SvXl3e3t75kml6enq+/0oqCwYPHqxFixZp5cqVqlOnjrO8Vq1aknTdfqhVq5YuXLigkydPFlrHLjZu3Kj09HTFxsbKx8dHPj4+WrVqld555x35+Pg4r6c89EdoaKgaNWrkUhYVFeV82HR5+9kYOXKkXnnlFT3++ONq3LixevfureHDh2vChAmSyl9/XMuqa69Vq5aOHj2a7/y//PKL7frn4sWL6tGjh1JSUpSUlOQcPZLKV1+sWbNG6enpqlu3rvN36v79+/Xiiy8qMjJSUun2BwHJAn5+foqNjVVSUpJLeVJSklq2bOmhVlnPGKMXXnhBn376qVasWKF69eq5fF6vXj3VqlXLpR8uXLigVatWOfshNjZWvr6+LnXS0tK0ZcsW2/VV+/bt9dNPPyk5Odn5iouL0xNPPKHk5GTVr1+/3PRHq1at8t3yYefOnYqIiJBU/n42zp07Jy8v11+v3t7ezm3+5a0/rmXVtbdo0UIZGRn67rvvnHW+/fZbZWRk2Kp/csPRrl279OWXXyo4ONjl8/LUF71799aPP/7o8js1LCxMI0eO1LJlyySVcn8UeTk3rit3m/+MGTPMtm3bzLBhw0ylSpXMvn37PN00yzz33HMmMDDQfP311yYtLc35OnfunLPOX//6VxMYGGg+/fRT89NPP5k//OEPBW7frVOnjvnyyy/Npk2bzP3332+LrctFce0uNmPKT3989913xsfHx/zlL38xu3btMnPnzjUVK1Y0H3zwgbNOeekLY4zp27evqV27tnOb/6effmqqV69uXnrpJWedstwfp0+fNps3bzabN282kszEiRPN5s2bnTuzrLr2zp07myZNmpj169eb9evXm8aNG//mtrZfry8uXrxounfvburUqWOSk5Ndfq9mZWU5z1FW+sKYG/9s5JV3F5sxpdcfBCQLTZkyxURERBg/Pz9z5513Ore/lxWSCnzNmjXLWScnJ8eMGTPG1KpVy/j7+5v77rvP/PTTTy7nOX/+vHnhhRdMUFCQqVChgnnwwQdNampqKV+Ne+QNSOWpPxYvXmyio6ONv7+/uf322817773n8nl56ovMzEwzdOhQU7duXRMQEGDq169vRo8e7fKPXlnuj5UrVxb4u6Jv377GGOuu/fjx4+aJJ54wVapUMVWqVDFPPPGEOXnyZCldZdFcry9SUlIK/b26cuVK5znKSl8Yc+OfjbwKCkil1R8OY4wp+ngTAABA2ccaJAAAgDwISAAAAHkQkAAAAPIgIAEAAORBQAIAAMiDgAQAAJAHAQkAACAPAhIAAEAeBCQAsFC/fv308MMPe7oZAG4SAQkAACAPAhKAG2rbtq2GDBmil156SUFBQapVq5bGjh1bpGNPnTqlZ555RiEhIQoICFB0dLQ+//xz5+effPKJ7rjjDvn7+ysyMlJvv/22y/GRkZF67bXX1KdPH1WuXFkRERH617/+pV9++UUPPfSQKleurMaNG2vDhg3OY2bPnq1q1arp888/V8OGDVWxYkU99thjOnv2rN5//31FRkbqlltu0eDBg5Wdne087sKFC3rppZdUu3ZtVapUSXfffbe+/vrrfOddtmyZoqKiVLlyZXXu3FlpaWmSpLFjx+r999/Xv/71LzkcDjkcDn399de6cOGCXnjhBYWGhiogIECRkZGaMGFCCf4mAJSaYj25DUC51KZNG1O1alUzduxYs3PnTvP+++8bh8Nhli9fft3jsrOzzT333GPuuOMOs3z5crNnzx6zePFis2TJEmOMMRs2bDBeXl5m/PjxZseOHWbWrFmmQoUKLg9AjoiIMEFBQWb69Olm586d5rnnnjNVqlQxnTt3Nh999JHZsWOHefjhh01UVJTJyckxxhgza9Ys4+vrazp27Gg2bdpkVq1aZYKDg02nTp1Mjx49zNatW83ixYuNn5+fmT9/vvO7evXqZVq2bGlWr15tdu/ebf72t78Zf39/s3PnTpfzdujQwXz//fdm48aNJioqyvTq1csYc/lJ5T169DCdO3d2eSr73/72NxMeHm5Wr15t9u3bZ9asWWPmzZtn5V8RAIsRkADcUJs2bcy9997rUta8eXPz8ssvX/e4ZcuWGS8vL7Njx44CP+/Vq5fp2LGjS9nIkSNNo0aNnO8jIiLMk08+6XyflpZmJJk///nPzrL169cbSSYtLc0YcznISDK7d+921nn22WdNxYoVzenTp51lDzzwgHn22WeNMcbs3r3bOBwOc+jQIZf2tG/f3iQmJhZ63ilTppiQkBDn+759+5qHHnrI5RyDBw82999/vzPAAfjtY4oNQJE0adLE5X1oaKjS09Ove0xycrLq1KmjBg0aFPj59u3b1apVK5eyVq1aadeuXS5TX9d+d0hIiCSpcePG+cqubU/FihV16623utSJjIxU5cqVXcpyj9m0aZOMMWrQoIEqV67sfK1atUp79uwp9LxF6Yd+/fopOTlZDRs21JAhQ7R8+fLr1gfgeT6ebgAAe/D19XV573A4lJOTc91jKlSocN3PjTFyOBz5yq733bn1Cyq7tj0Ftfd615CTkyNvb29t3LhR3t7eLvWuDVUFnaOgNl/rzjvvVEpKiv7973/ryy+/VI8ePdShQwf985//vO5xADyHgATAbZo0aaKDBw9q586dBY4iNWrUSGvXrnUpW7dunRo0aJAvpLhbTEyMsrOzlZ6ertatW5f4PH5+fi6jX7mqVq2qnj17qmfPnnrsscfUuXNnnThxQkFBQTfTbABuQkAC4DZt2rTRfffdp0cffVQTJ07U7373O/38889yOBzq3LmzXnzxRTVv3lz//d//rZ49e2r9+vWaPHmypk6dWuptbdCggZ544gn16dNHb7/9tmJiYnTs2DGtWLFCjRs3VpcuXYp0nsjISC1btkw7duxQcHCwAgMDNXnyZIWGhqpZs2by8vLSxx9/rFq1aqlatWruvSgAJcYaJABu9cknn6h58+b6wx/+oEaNGumll15yjrDceeed+uijjzR//nxFR0fr1Vdf1fjx49WvXz+PtHXWrFnq06ePXnzxRTVs2FDdu3fXt99+q/Dw8CKf449//KMaNmyouLg41ahRQ998840qV66sN954Q3FxcWrevLn27dunJUuWyMuLX8HAb5XD3GjyHAAAoJzhP18AAADyICABKLG5c+e6bIm/9nXHHXd4unkAUGJMsQEosdOnT+vo0aMFfubr66uIiIhSbhEAWIOABAAAkAdTbAAAAHkQkAAAAPIgIAEAAORBQAIAAMiDgAQAAJAHAQkAACAPAhIAAEAeBCQAAIA8/h+fJGa29TMIrAAAAABJRU5ErkJggg==",
      "text/plain": [
       "<Figure size 640x480 with 1 Axes>"
      ]
     },
     "metadata": {},
     "output_type": "display_data"
    }
   ],
   "source": [
    "# Visualize the distribution of numerical features\n",
    "numerical_features = df_train.select_dtypes(include=['int64', 'float64']).columns\n",
    "for feature in numerical_features:\n",
    "    plt.figure()\n",
    "    sns.histplot(df_train[feature], kde=True)\n",
    "    plt.title(f'Distribution of {feature}')\n",
    "    plt.show()"
   ]
  },
  {
   "cell_type": "code",
   "execution_count": 15,
   "id": "06489ed0-a7da-4f61-9cb8-4bc92a4b12e3",
   "metadata": {},
   "outputs": [
    {
     "data": {
      "image/png": "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",
      "text/plain": [
       "<Figure size 800x600 with 1 Axes>"
      ]
     },
     "metadata": {},
     "output_type": "display_data"
    },
    {
     "data": {
      "image/png": "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",
      "text/plain": [
       "<Figure size 800x600 with 1 Axes>"
      ]
     },
     "metadata": {},
     "output_type": "display_data"
    },
    {
     "data": {
      "image/png": "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",
      "text/plain": [
       "<Figure size 800x600 with 1 Axes>"
      ]
     },
     "metadata": {},
     "output_type": "display_data"
    }
   ],
   "source": [
    "# Visualize the relationship between numerical features and target variable\n",
    "for feature in numerical_features:\n",
    "    plt.figure(figsize=(8, 6))\n",
    "    sns.boxplot(x='rating', y=feature, data=df_train)\n",
    "    plt.title(f'{feature} vs Target Variable')\n",
    "    plt.show()"
   ]
  },
  {
   "cell_type": "code",
   "execution_count": 16,
   "id": "f383bae5-47dc-4712-9568-f6a8d70a12f1",
   "metadata": {},
   "outputs": [
    {
     "data": {
      "text/plain": [
       "count    900000.000000\n",
       "mean          1.016656\n",
       "std           5.963821\n",
       "min          -1.000000\n",
       "25%           0.000000\n",
       "50%           0.000000\n",
       "75%           0.000000\n",
       "max        1335.000000\n",
       "Name: n_comments, dtype: float64"
      ]
     },
     "execution_count": 16,
     "metadata": {},
     "output_type": "execute_result"
    }
   ],
   "source": [
    "df_train.n_comments.describe()"
   ]
  },
  {
   "cell_type": "code",
   "execution_count": 17,
   "id": "61a98a01-5c8e-4a7e-8e14-1d0aa7f949c7",
   "metadata": {},
   "outputs": [
    {
     "data": {
      "text/plain": [
       "count    900000.000000\n",
       "mean          3.294381\n",
       "std          17.873553\n",
       "min          -3.000000\n",
       "25%           0.000000\n",
       "50%           0.000000\n",
       "75%           2.000000\n",
       "max        3222.000000\n",
       "Name: n_votes, dtype: float64"
      ]
     },
     "execution_count": 17,
     "metadata": {},
     "output_type": "execute_result"
    }
   ],
   "source": [
    "df_train.n_votes.describe()"
   ]
  },
  {
   "cell_type": "markdown",
   "id": "24a37a9b-59bc-4f26-b802-80b13a9dadbf",
   "metadata": {},
   "source": [
    "We can conclude that there is no correlation or relationship between rating and other categorical features, we can go ahead and drop them."
   ]
  },
  {
   "cell_type": "code",
   "execution_count": null,
   "id": "9f00ae6e-4860-47fe-ba10-ad2b34b1cc69",
   "metadata": {},
   "outputs": [],
   "source": [
    "df_train.drop([\"user_id\", \"book_id\", \"review_id\", \"date_added\", \"date_updated\", \"read_at\", \"started_at\"], axis =1, inplace=True)"
   ]
  },
  {
   "cell_type": "code",
   "execution_count": 19,
   "id": "b550e75e-679e-43d3-bb79-9188079068b6",
   "metadata": {},
   "outputs": [
    {
     "data": {
      "text/html": [
       "<div>\n",
       "<style scoped>\n",
       "    .dataframe tbody tr th:only-of-type {\n",
       "        vertical-align: middle;\n",
       "    }\n",
       "\n",
       "    .dataframe tbody tr th {\n",
       "        vertical-align: top;\n",
       "    }\n",
       "\n",
       "    .dataframe thead th {\n",
       "        text-align: right;\n",
       "    }\n",
       "</style>\n",
       "<table border=\"1\" class=\"dataframe\">\n",
       "  <thead>\n",
       "    <tr style=\"text-align: right;\">\n",
       "      <th></th>\n",
       "      <th>rating</th>\n",
       "      <th>review_text</th>\n",
       "      <th>date_added</th>\n",
       "      <th>date_updated</th>\n",
       "      <th>read_at</th>\n",
       "      <th>started_at</th>\n",
       "      <th>n_votes</th>\n",
       "      <th>n_comments</th>\n",
       "    </tr>\n",
       "  </thead>\n",
       "  <tbody>\n",
       "    <tr>\n",
       "      <th>0</th>\n",
       "      <td>5</td>\n",
       "      <td>This is a special book. It started slow for ab...</td>\n",
       "      <td>Sun Jul 30 07:44:10 -0700 2017</td>\n",
       "      <td>Wed Aug 30 00:00:26 -0700 2017</td>\n",
       "      <td>Sat Aug 26 12:05:52 -0700 2017</td>\n",
       "      <td>Tue Aug 15 13:23:18 -0700 2017</td>\n",
       "      <td>28</td>\n",
       "      <td>1</td>\n",
       "    </tr>\n",
       "    <tr>\n",
       "      <th>1</th>\n",
       "      <td>3</td>\n",
       "      <td>Recommended by Don Katz. Avail for free in Dec...</td>\n",
       "      <td>Mon Dec 05 10:46:44 -0800 2016</td>\n",
       "      <td>Wed Mar 22 11:37:04 -0700 2017</td>\n",
       "      <td>NaN</td>\n",
       "      <td>NaN</td>\n",
       "      <td>1</td>\n",
       "      <td>0</td>\n",
       "    </tr>\n",
       "    <tr>\n",
       "      <th>2</th>\n",
       "      <td>3</td>\n",
       "      <td>A fun, fast paced science fiction thriller. I ...</td>\n",
       "      <td>Tue Nov 15 11:29:22 -0800 2016</td>\n",
       "      <td>Mon Mar 20 23:40:27 -0700 2017</td>\n",
       "      <td>Sat Mar 18 23:22:42 -0700 2017</td>\n",
       "      <td>Fri Mar 17 23:45:40 -0700 2017</td>\n",
       "      <td>22</td>\n",
       "      <td>0</td>\n",
       "    </tr>\n",
       "    <tr>\n",
       "      <th>3</th>\n",
       "      <td>0</td>\n",
       "      <td>Recommended reading to understand what is goin...</td>\n",
       "      <td>Wed Nov 09 17:37:04 -0800 2016</td>\n",
       "      <td>Wed Nov 09 17:38:20 -0800 2016</td>\n",
       "      <td>NaN</td>\n",
       "      <td>NaN</td>\n",
       "      <td>5</td>\n",
       "      <td>1</td>\n",
       "    </tr>\n",
       "    <tr>\n",
       "      <th>4</th>\n",
       "      <td>4</td>\n",
       "      <td>I really enjoyed this book, and there is a lot...</td>\n",
       "      <td>Mon Apr 25 09:31:23 -0700 2016</td>\n",
       "      <td>Mon Apr 25 09:31:23 -0700 2016</td>\n",
       "      <td>Sun Jun 26 00:00:00 -0700 2016</td>\n",
       "      <td>Sat May 28 00:00:00 -0700 2016</td>\n",
       "      <td>9</td>\n",
       "      <td>1</td>\n",
       "    </tr>\n",
       "  </tbody>\n",
       "</table>\n",
       "</div>"
      ],
      "text/plain": [
       "   rating                                        review_text  \\\n",
       "0       5  This is a special book. It started slow for ab...   \n",
       "1       3  Recommended by Don Katz. Avail for free in Dec...   \n",
       "2       3  A fun, fast paced science fiction thriller. I ...   \n",
       "3       0  Recommended reading to understand what is goin...   \n",
       "4       4  I really enjoyed this book, and there is a lot...   \n",
       "\n",
       "                       date_added                    date_updated  \\\n",
       "0  Sun Jul 30 07:44:10 -0700 2017  Wed Aug 30 00:00:26 -0700 2017   \n",
       "1  Mon Dec 05 10:46:44 -0800 2016  Wed Mar 22 11:37:04 -0700 2017   \n",
       "2  Tue Nov 15 11:29:22 -0800 2016  Mon Mar 20 23:40:27 -0700 2017   \n",
       "3  Wed Nov 09 17:37:04 -0800 2016  Wed Nov 09 17:38:20 -0800 2016   \n",
       "4  Mon Apr 25 09:31:23 -0700 2016  Mon Apr 25 09:31:23 -0700 2016   \n",
       "\n",
       "                          read_at                      started_at  n_votes  \\\n",
       "0  Sat Aug 26 12:05:52 -0700 2017  Tue Aug 15 13:23:18 -0700 2017       28   \n",
       "1                             NaN                             NaN        1   \n",
       "2  Sat Mar 18 23:22:42 -0700 2017  Fri Mar 17 23:45:40 -0700 2017       22   \n",
       "3                             NaN                             NaN        5   \n",
       "4  Sun Jun 26 00:00:00 -0700 2016  Sat May 28 00:00:00 -0700 2016        9   \n",
       "\n",
       "   n_comments  \n",
       "0           1  \n",
       "1           0  \n",
       "2           0  \n",
       "3           1  \n",
       "4           1  "
      ]
     },
     "execution_count": 19,
     "metadata": {},
     "output_type": "execute_result"
    }
   ],
   "source": [
    "df_train.head()"
   ]
  },
  {
   "cell_type": "markdown",
   "id": "f5dc0ce6-93a1-49fc-b098-4c59e7fddff5",
   "metadata": {},
   "source": [
    "### Text Processing\n",
    "\n",
    "Now let's move on to processing our ratings and use them to create a model for us to predict book ratings. "
   ]
  },
  {
   "cell_type": "code",
   "execution_count": 4,
   "id": "c163cf7f-aef9-4603-ae49-abe4b4fd9cf4",
   "metadata": {
    "tags": []
   },
   "outputs": [],
   "source": [
    "X = df_train['review_text']\n",
    "y = df_train['rating']\n",
    "\n",
    "# Split into train and test\n",
    "X_train, X_test, y_train, y_test = train_test_split(X, y, test_size=0.3, random_state=42)"
   ]
  },
  {
   "cell_type": "code",
   "execution_count": 5,
   "id": "3d9b4e18-43d9-4fa6-88ee-1025862f9846",
   "metadata": {
    "tags": []
   },
   "outputs": [
    {
     "data": {
      "text/plain": [
       "((630000,), (270000,))"
      ]
     },
     "execution_count": 5,
     "metadata": {},
     "output_type": "execute_result"
    }
   ],
   "source": [
    "X_train.shape, X_test.shape"
   ]
  },
  {
   "cell_type": "code",
   "execution_count": 6,
   "id": "cc2efe83-34a7-4219-be70-61620e77567a",
   "metadata": {
    "tags": []
   },
   "outputs": [],
   "source": [
    "# Initialize CountVectorizer\n",
    "bow = CountVectorizer(stop_words='english', max_features=1000)\n",
    "\n",
    "# Fit and transform the review columns\n",
    "X_train_vectorized = bow.fit_transform(X_train)\n",
    "X_test_vectorized = bow.transform(X_test)"
   ]
  },
  {
   "cell_type": "code",
   "execution_count": 7,
   "id": "58102af6-b35f-4593-8e4d-5739283a1319",
   "metadata": {
    "tags": []
   },
   "outputs": [
    {
     "data": {
      "text/html": [
       "<div>\n",
       "<style scoped>\n",
       "    .dataframe tbody tr th:only-of-type {\n",
       "        vertical-align: middle;\n",
       "    }\n",
       "\n",
       "    .dataframe tbody tr th {\n",
       "        vertical-align: top;\n",
       "    }\n",
       "\n",
       "    .dataframe thead th {\n",
       "        text-align: right;\n",
       "    }\n",
       "</style>\n",
       "<table border=\"1\" class=\"dataframe\">\n",
       "  <thead>\n",
       "    <tr style=\"text-align: right;\">\n",
       "      <th></th>\n",
       "      <th>10</th>\n",
       "      <th>100</th>\n",
       "      <th>ability</th>\n",
       "      <th>able</th>\n",
       "      <th>absolutely</th>\n",
       "      <th>act</th>\n",
       "      <th>action</th>\n",
       "      <th>actions</th>\n",
       "      <th>actual</th>\n",
       "      <th>actually</th>\n",
       "      <th>...</th>\n",
       "      <th>written</th>\n",
       "      <th>wrong</th>\n",
       "      <th>wrote</th>\n",
       "      <th>ya</th>\n",
       "      <th>yeah</th>\n",
       "      <th>year</th>\n",
       "      <th>years</th>\n",
       "      <th>yes</th>\n",
       "      <th>young</th>\n",
       "      <th>younger</th>\n",
       "    </tr>\n",
       "  </thead>\n",
       "  <tbody>\n",
       "    <tr>\n",
       "      <th>0</th>\n",
       "      <td>0</td>\n",
       "      <td>0</td>\n",
       "      <td>0</td>\n",
       "      <td>0</td>\n",
       "      <td>0</td>\n",
       "      <td>0</td>\n",
       "      <td>0</td>\n",
       "      <td>0</td>\n",
       "      <td>0</td>\n",
       "      <td>0</td>\n",
       "      <td>...</td>\n",
       "      <td>0</td>\n",
       "      <td>0</td>\n",
       "      <td>0</td>\n",
       "      <td>0</td>\n",
       "      <td>0</td>\n",
       "      <td>0</td>\n",
       "      <td>0</td>\n",
       "      <td>0</td>\n",
       "      <td>0</td>\n",
       "      <td>0</td>\n",
       "    </tr>\n",
       "    <tr>\n",
       "      <th>1</th>\n",
       "      <td>0</td>\n",
       "      <td>0</td>\n",
       "      <td>0</td>\n",
       "      <td>0</td>\n",
       "      <td>0</td>\n",
       "      <td>0</td>\n",
       "      <td>0</td>\n",
       "      <td>0</td>\n",
       "      <td>0</td>\n",
       "      <td>1</td>\n",
       "      <td>...</td>\n",
       "      <td>0</td>\n",
       "      <td>0</td>\n",
       "      <td>0</td>\n",
       "      <td>0</td>\n",
       "      <td>0</td>\n",
       "      <td>0</td>\n",
       "      <td>0</td>\n",
       "      <td>0</td>\n",
       "      <td>0</td>\n",
       "      <td>0</td>\n",
       "    </tr>\n",
       "    <tr>\n",
       "      <th>2</th>\n",
       "      <td>0</td>\n",
       "      <td>0</td>\n",
       "      <td>0</td>\n",
       "      <td>0</td>\n",
       "      <td>0</td>\n",
       "      <td>0</td>\n",
       "      <td>0</td>\n",
       "      <td>0</td>\n",
       "      <td>0</td>\n",
       "      <td>0</td>\n",
       "      <td>...</td>\n",
       "      <td>0</td>\n",
       "      <td>0</td>\n",
       "      <td>0</td>\n",
       "      <td>0</td>\n",
       "      <td>0</td>\n",
       "      <td>0</td>\n",
       "      <td>0</td>\n",
       "      <td>0</td>\n",
       "      <td>0</td>\n",
       "      <td>0</td>\n",
       "    </tr>\n",
       "    <tr>\n",
       "      <th>3</th>\n",
       "      <td>0</td>\n",
       "      <td>0</td>\n",
       "      <td>0</td>\n",
       "      <td>0</td>\n",
       "      <td>0</td>\n",
       "      <td>0</td>\n",
       "      <td>0</td>\n",
       "      <td>0</td>\n",
       "      <td>0</td>\n",
       "      <td>0</td>\n",
       "      <td>...</td>\n",
       "      <td>0</td>\n",
       "      <td>0</td>\n",
       "      <td>0</td>\n",
       "      <td>0</td>\n",
       "      <td>0</td>\n",
       "      <td>0</td>\n",
       "      <td>0</td>\n",
       "      <td>0</td>\n",
       "      <td>0</td>\n",
       "      <td>0</td>\n",
       "    </tr>\n",
       "    <tr>\n",
       "      <th>4</th>\n",
       "      <td>0</td>\n",
       "      <td>0</td>\n",
       "      <td>0</td>\n",
       "      <td>0</td>\n",
       "      <td>0</td>\n",
       "      <td>0</td>\n",
       "      <td>0</td>\n",
       "      <td>0</td>\n",
       "      <td>0</td>\n",
       "      <td>0</td>\n",
       "      <td>...</td>\n",
       "      <td>0</td>\n",
       "      <td>0</td>\n",
       "      <td>0</td>\n",
       "      <td>0</td>\n",
       "      <td>0</td>\n",
       "      <td>1</td>\n",
       "      <td>1</td>\n",
       "      <td>0</td>\n",
       "      <td>0</td>\n",
       "      <td>0</td>\n",
       "    </tr>\n",
       "  </tbody>\n",
       "</table>\n",
       "<p>5 rows × 1000 columns</p>\n",
       "</div>"
      ],
      "text/plain": [
       "   10  100  ability  able  absolutely  act  action  actions  actual  actually  \\\n",
       "0   0    0        0     0           0    0       0        0       0         0   \n",
       "1   0    0        0     0           0    0       0        0       0         1   \n",
       "2   0    0        0     0           0    0       0        0       0         0   \n",
       "3   0    0        0     0           0    0       0        0       0         0   \n",
       "4   0    0        0     0           0    0       0        0       0         0   \n",
       "\n",
       "   ...  written  wrong  wrote  ya  yeah  year  years  yes  young  younger  \n",
       "0  ...        0      0      0   0     0     0      0    0      0        0  \n",
       "1  ...        0      0      0   0     0     0      0    0      0        0  \n",
       "2  ...        0      0      0   0     0     0      0    0      0        0  \n",
       "3  ...        0      0      0   0     0     0      0    0      0        0  \n",
       "4  ...        0      0      0   0     0     1      1    0      0        0  \n",
       "\n",
       "[5 rows x 1000 columns]"
      ]
     },
     "execution_count": 7,
     "metadata": {},
     "output_type": "execute_result"
    }
   ],
   "source": [
    "# convert sparse matrix into dataframe\n",
    "# Source(https://pandas.pydata.org/pandas-docs/stable/reference/api/pandas.DataFrame.sparse.from_spmatrix.html)\n",
    "X_train_dense = pd.DataFrame.sparse.from_spmatrix(X_train_vectorized, columns=bow.get_feature_names_out()).sparse.to_dense()\n",
    "X_test_dense = pd.DataFrame.sparse.from_spmatrix(X_test_vectorized, columns=bow.get_feature_names_out()).sparse.to_dense()\n",
    "\n",
    "# First 5 rows of training data\n",
    "X_train_dense.head()"
   ]
  },
  {
   "cell_type": "markdown",
   "id": "7e6cb051-b7c9-4407-af23-368f4dde4251",
   "metadata": {},
   "source": [
    "### Modeling\n",
    "\n",
    "Let's start with some basic Logistic Regression.\n",
    "\n",
    "Before we fit the data on a linear model, we should scale it for more robustness."
   ]
  },
  {
   "cell_type": "code",
   "execution_count": 8,
   "id": "3f2417f5-ac60-45a9-ba83-eaeb097c1cfe",
   "metadata": {
    "tags": []
   },
   "outputs": [],
   "source": [
    "# instantiate the scaler\n",
    "ss = StandardScaler()\n",
    "\n",
    "# fit the scaler into the training set\n",
    "ss.fit(X_train_dense)\n",
    "\n",
    "# transform the train and testing set\n",
    "X_train_ss = ss.transform(X_train_dense)\n",
    "X_test_ss = ss.transform(X_test_dense)"
   ]
  },
  {
   "cell_type": "code",
   "execution_count": null,
   "id": "66a2e546-1295-486e-9e9f-a9a9c4a8967d",
   "metadata": {
    "tags": []
   },
   "outputs": [],
   "source": [
    "# instantiate model\n",
    "base_logreg = LogisticRegression()\n",
    "\n",
    "# Fit the classifier\n",
    "base_logreg.fit(X_train_ss, y_train)"
   ]
  },
  {
   "cell_type": "code",
   "execution_count": null,
   "id": "9d5ea4be-0a32-4160-897e-54358e782f04",
   "metadata": {
    "tags": []
   },
   "outputs": [],
   "source": [
    "print(f\"Train score: {base_logreg.score(X_train_ss, y_train)}\")\n",
    "print(f\"Test score: {base_logreg.score(X_test_ss, y_test)}\")"
   ]
  },
  {
   "cell_type": "code",
   "execution_count": null,
   "id": "7ec8ac4a-9484-4475-98e5-551bc880909a",
   "metadata": {
    "tags": []
   },
   "outputs": [],
   "source": [
    "# Get class predictions\n",
    "y_pred = base_logreg.predict(X_test_ss)\n",
    "\n",
    "# Confusion matrix\n",
    "ConfusionMatrixDisplay.from_estimator(base_logreg, X_test_ss, y_test)\n",
    "plt.title(\"Test Data Confusion Matrix\")\n",
    "plt.show()"
   ]
  },
  {
   "cell_type": "markdown",
   "id": "a7bed694",
   "metadata": {},
   "source": [
    "As we can see from the confusion matrix above, Logistic Regression is not the best at predicting the ratings through NLP. We can see a lot of true label 4's are being predicted as label 5's, labels 3 and 5 and some of labels 0 and 2 are being predicted as 4's, labels 2 and 4 are being predicted as 3's. This is more apparent if we look at the classification report. "
   ]
  },
  {
   "cell_type": "code",
   "execution_count": null,
   "id": "ae28a611-db58-4620-a9c5-7e3ee0f3560e",
   "metadata": {
    "tags": []
   },
   "outputs": [],
   "source": [
    "base_logreg_report = classification_report(y_test, y_pred)\n",
    "print(base_logreg_report)"
   ]
  },
  {
   "cell_type": "markdown",
<<<<<<< Updated upstream
   "id": "2acb44ee",
   "metadata": {},
   "source": [
    "We see from this classification report practically all classes have really low precision and recall scores meaning we our model is performing poorly and we should use a different possibly more advanced model. "
=======
   "id": "c8248fcf-c24e-45b4-b6fb-b71cef40ecce",
   "metadata": {},
   "source": [
    "### TF-IDF Vectorization"
>>>>>>> Stashed changes
   ]
  },
  {
   "cell_type": "code",
<<<<<<< Updated upstream
   "execution_count": null,
   "id": "84affe24",
   "metadata": {},
   "outputs": [],
   "source": []
  },
  {
   "cell_type": "code",
   "execution_count": null,
   "id": "81a21939",
   "metadata": {},
   "outputs": [],
   "source": []
  },
  {
   "cell_type": "markdown",
   "id": "3a569f7d-c0ce-4a44-beba-f8f66dd67650",
   "metadata": {},
   "source": [
    "### Decision Tree\n",
    "\n",
    "---\n",
    "\n",
    "MARKDOWN HERE"
=======
   "execution_count": 12,
   "id": "3c8a3968-63dc-4f03-b365-a351118deff7",
   "metadata": {},
   "outputs": [
    {
     "data": {
      "text/plain": [
       "(630000, 76987)"
      ]
     },
     "execution_count": 12,
     "metadata": {},
     "output_type": "execute_result"
    }
   ],
   "source": [
    "tfidf = TfidfVectorizer(min_df=5)\n",
    "tfidf.fit(X_train)\n",
    "\n",
    "X_train_transformed = tfidf.transform(X_train)\n",
    "X_test_transformed = tfidf.transform(X_test)\n",
    "\n",
    "X_train_transformed.shape"
>>>>>>> Stashed changes
   ]
  },
  {
   "cell_type": "code",
<<<<<<< Updated upstream
   "execution_count": null,
   "id": "7020cc28-807b-4f73-87ec-d12151194267",
   "metadata": {},
   "outputs": [],
   "source": []
=======
   "execution_count": 14,
   "id": "1550c6fa-b046-4b1e-a1de-6be3fa35f328",
   "metadata": {},
   "outputs": [
    {
     "data": {
      "text/plain": [
       "array(['00', '000', '0001', ..., 'zzzzzz', 'zzzzzzz', 'zzzzzzzzz'],\n",
       "      dtype=object)"
      ]
     },
     "execution_count": 14,
     "metadata": {},
     "output_type": "execute_result"
    }
   ],
   "source": [
    "tfidf.get_feature_names_out()"
   ]
  },
  {
   "cell_type": "markdown",
   "id": "01ef2ea7-86b4-47fe-86e2-2ca3c5c05167",
   "metadata": {},
   "source": [
    "### Sentiment Analysis using Multinomial Naive Bayes\n",
    "\n",
    "The idea of Naive Bayes technique is to find the probabilities of classes assigned to texts by using the joint probabilities of words and classes. "
   ]
  },
  {
   "cell_type": "code",
   "execution_count": 18,
   "id": "1ae5cefe-5619-4f97-a687-c50c1a07b5f9",
   "metadata": {},
   "outputs": [
    {
     "data": {
      "text/plain": [
       "0.43836296296296295"
      ]
     },
     "execution_count": 18,
     "metadata": {},
     "output_type": "execute_result"
    }
   ],
   "source": [
    "from sklearn.pipeline import Pipeline\n",
    "from sklearn.naive_bayes import MultinomialNB\n",
    "from sklearn.feature_extraction.text import CountVectorizer, TfidfTransformer\n",
    "from sklearn.model_selection import train_test_split, GridSearchCV\n",
    "\n",
    "pipeline = Pipeline([('vect', CountVectorizer()),\n",
    "                     ('tfidf', TfidfTransformer()),\n",
    "                     ('clf', MultinomialNB())])\n",
    "\n",
    "#fit\n",
    "pipeline.fit(X_train, y_train)\n",
    "\n",
    "#score\n",
    "pipeline.score(X_test, y_test)"
   ]
>>>>>>> Stashed changes
  }
 ],
 "metadata": {
  "kernelspec": {
   "display_name": "Python 3 (ipykernel)",
   "language": "python",
   "name": "python3"
  },
  "language_info": {
   "codemirror_mode": {
    "name": "ipython",
    "version": 3
   },
   "file_extension": ".py",
   "mimetype": "text/x-python",
   "name": "python",
   "nbconvert_exporter": "python",
   "pygments_lexer": "ipython3",
   "version": "3.11.8"
  }
 },
 "nbformat": 4,
 "nbformat_minor": 5
}
