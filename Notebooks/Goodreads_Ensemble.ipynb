{
 "cells": [
  {
   "cell_type": "markdown",
   "id": "164df747-3e18-4b78-a223-6af1c38db047",
   "metadata": {},
   "source": [
    "# Goodreads Book Reviews Analysis and Sentiment Classification\n",
    "\n",
    "**Authors: Tilova, Calvin, Clement**\n",
    "\n",
    "---\n",
    "Welcome to the Goodreads Book Reviews Analysis! This comprehensive dataset contains over 1.3 million book reviews, covering 25,475 books and involving 18,892 users. This data offers a unique opportunity to explore and analyze reader sentiments, preferences, and patterns within the Goodreads community.\n",
    "\n",
    "## Objective\n",
    "\n",
    "Our primary goal is to perform sentiment analysis on these book reviews. By leveraging advanced machine learning techniques, we aim to classify the sentiments expressed in the reviews as positive or negative. This analysis will help us gain insights into readers' opinions and how they perceive various books.\n",
    "\n",
    "## Approach\n",
    "\n",
    "To achieve our objective, we will employ the following machine learning algorithms:\n",
    "\n",
    "1. **Decision Tree Classifier** \n",
    "\n",
    "2. **Random Forest Classifier** \n",
    "\n",
    "3. **XGBoost** \n",
    "\n",
    "## Notebook Structure\n",
    "\n",
    "This notebook is organized into the following sections:\n",
    "\n",
    "1. **Text Preprocessing** \n",
    "2. **Feature Engineering** \n",
    "3. **Model Training and Evaluation** \n",
    "4. **Results and Insights** \n",
    "5. **Conclusion:**\n",
    "\n",
    "## Getting Started\n",
    "\n",
    "Let's dive into the analysis and uncover the sentiment dynamics within the Goodreads community. Whether you're a data scientist, a book enthusiast, or someone curious about sentiment analysis, this notebook offers a comprehensive guide to understanding and classifying reader sentiments using cutting-edge machine learning techniques."
   ]
  },
  {
   "cell_type": "markdown",
   "id": "9eb1f02e-4c16-4538-88b1-7b7557008732",
   "metadata": {},
   "source": [
    "### Data Dictionary For This Notebook:\n",
    "\n",
    "---\n",
    "| Column | Description                                  |Data Type|\n",
    "|-------|--------------------------------------------|-------|\n",
    "| rating (**Dependant Variable**)| Rating between 0-5 | int |\n",
    "| review_text | The book review           | object |"
   ]
  },
  {
   "cell_type": "markdown",
   "id": "c85934fc-353c-4f68-8eeb-f42a85bab08f",
   "metadata": {},
   "source": [
    "## Table of Contents\n",
    "\n",
    "---\n",
    "\n",
    "1. Data Wrangling\n",
    "2. Text preprocessing\n",
    "3. Decision Tree\n",
    "4. Random Forest\n",
    "5. XgBoost"
   ]
  },
  {
   "cell_type": "markdown",
   "id": "65bb937e-8663-42df-811f-fab3f98f0203",
   "metadata": {},
   "source": [
    "**Importing Libraries**"
   ]
  },
  {
   "cell_type": "code",
   "execution_count": 1,
   "id": "ee9fca57-ecfb-4657-bd40-5f252949c3e9",
   "metadata": {},
   "outputs": [],
   "source": [
    "import numpy as np # linear algebra\n",
    "import pandas as pd # data processing, CSV file I/O (e.g. pd.read_csv)\n",
    "\n",
    "# data visualization\n",
    "import matplotlib.pyplot as plt\n",
    "import seaborn as sns\n",
    "\n",
    "#sk-learn text preprocessing\n",
    "from sklearn.model_selection import train_test_split\n",
    "from sklearn.feature_extraction.text import CountVectorizer\n",
    "\n",
    "# modelling\n",
    "from sklearn.tree import DecisionTreeClassifier\n",
    "\n",
    "#model metrics\n",
    "from sklearn.metrics import f1_score, classification_report\n",
    "\n",
    "# ignores the filter warnings\n",
    "import warnings\n",
    "warnings.filterwarnings('ignore')"
   ]
  },
  {
   "cell_type": "markdown",
   "id": "1ffe92d7-ce40-4dba-9692-c492efdf0665",
   "metadata": {},
   "source": [
    "<a id = 'wrangle'></a>\n",
    "\n",
    "### 1. Data Wrangling\n",
    "---\n",
    "Loading the CSVs files."
   ]
  },
  {
   "cell_type": "code",
   "execution_count": 2,
   "id": "e69d2b21-dcc3-46f9-a979-a50a81b43a5b",
   "metadata": {},
   "outputs": [
    {
     "data": {
      "text/html": [
       "<div>\n",
       "<style scoped>\n",
       "    .dataframe tbody tr th:only-of-type {\n",
       "        vertical-align: middle;\n",
       "    }\n",
       "\n",
       "    .dataframe tbody tr th {\n",
       "        vertical-align: top;\n",
       "    }\n",
       "\n",
       "    .dataframe thead th {\n",
       "        text-align: right;\n",
       "    }\n",
       "</style>\n",
       "<table border=\"1\" class=\"dataframe\">\n",
       "  <thead>\n",
       "    <tr style=\"text-align: right;\">\n",
       "      <th></th>\n",
       "      <th>user_id</th>\n",
       "      <th>book_id</th>\n",
       "      <th>review_id</th>\n",
       "      <th>rating</th>\n",
       "      <th>review_text</th>\n",
       "      <th>date_added</th>\n",
       "      <th>date_updated</th>\n",
       "      <th>read_at</th>\n",
       "      <th>started_at</th>\n",
       "      <th>n_votes</th>\n",
       "      <th>n_comments</th>\n",
       "    </tr>\n",
       "  </thead>\n",
       "  <tbody>\n",
       "    <tr>\n",
       "      <th>0</th>\n",
       "      <td>8842281e1d1347389f2ab93d60773d4d</td>\n",
       "      <td>18245960</td>\n",
       "      <td>dfdbb7b0eb5a7e4c26d59a937e2e5feb</td>\n",
       "      <td>5</td>\n",
       "      <td>This is a special book. It started slow for ab...</td>\n",
       "      <td>Sun Jul 30 07:44:10 -0700 2017</td>\n",
       "      <td>Wed Aug 30 00:00:26 -0700 2017</td>\n",
       "      <td>Sat Aug 26 12:05:52 -0700 2017</td>\n",
       "      <td>Tue Aug 15 13:23:18 -0700 2017</td>\n",
       "      <td>28</td>\n",
       "      <td>1</td>\n",
       "    </tr>\n",
       "    <tr>\n",
       "      <th>1</th>\n",
       "      <td>8842281e1d1347389f2ab93d60773d4d</td>\n",
       "      <td>16981</td>\n",
       "      <td>a5d2c3628987712d0e05c4f90798eb67</td>\n",
       "      <td>3</td>\n",
       "      <td>Recommended by Don Katz. Avail for free in Dec...</td>\n",
       "      <td>Mon Dec 05 10:46:44 -0800 2016</td>\n",
       "      <td>Wed Mar 22 11:37:04 -0700 2017</td>\n",
       "      <td>NaN</td>\n",
       "      <td>NaN</td>\n",
       "      <td>1</td>\n",
       "      <td>0</td>\n",
       "    </tr>\n",
       "    <tr>\n",
       "      <th>2</th>\n",
       "      <td>8842281e1d1347389f2ab93d60773d4d</td>\n",
       "      <td>28684704</td>\n",
       "      <td>2ede853b14dc4583f96cf5d120af636f</td>\n",
       "      <td>3</td>\n",
       "      <td>A fun, fast paced science fiction thriller. I ...</td>\n",
       "      <td>Tue Nov 15 11:29:22 -0800 2016</td>\n",
       "      <td>Mon Mar 20 23:40:27 -0700 2017</td>\n",
       "      <td>Sat Mar 18 23:22:42 -0700 2017</td>\n",
       "      <td>Fri Mar 17 23:45:40 -0700 2017</td>\n",
       "      <td>22</td>\n",
       "      <td>0</td>\n",
       "    </tr>\n",
       "    <tr>\n",
       "      <th>3</th>\n",
       "      <td>8842281e1d1347389f2ab93d60773d4d</td>\n",
       "      <td>27161156</td>\n",
       "      <td>ced5675e55cd9d38a524743f5c40996e</td>\n",
       "      <td>0</td>\n",
       "      <td>Recommended reading to understand what is goin...</td>\n",
       "      <td>Wed Nov 09 17:37:04 -0800 2016</td>\n",
       "      <td>Wed Nov 09 17:38:20 -0800 2016</td>\n",
       "      <td>NaN</td>\n",
       "      <td>NaN</td>\n",
       "      <td>5</td>\n",
       "      <td>1</td>\n",
       "    </tr>\n",
       "    <tr>\n",
       "      <th>4</th>\n",
       "      <td>8842281e1d1347389f2ab93d60773d4d</td>\n",
       "      <td>25884323</td>\n",
       "      <td>332732725863131279a8e345b63ac33e</td>\n",
       "      <td>4</td>\n",
       "      <td>I really enjoyed this book, and there is a lot...</td>\n",
       "      <td>Mon Apr 25 09:31:23 -0700 2016</td>\n",
       "      <td>Mon Apr 25 09:31:23 -0700 2016</td>\n",
       "      <td>Sun Jun 26 00:00:00 -0700 2016</td>\n",
       "      <td>Sat May 28 00:00:00 -0700 2016</td>\n",
       "      <td>9</td>\n",
       "      <td>1</td>\n",
       "    </tr>\n",
       "  </tbody>\n",
       "</table>\n",
       "</div>"
      ],
      "text/plain": [
       "                            user_id   book_id  \\\n",
       "0  8842281e1d1347389f2ab93d60773d4d  18245960   \n",
       "1  8842281e1d1347389f2ab93d60773d4d     16981   \n",
       "2  8842281e1d1347389f2ab93d60773d4d  28684704   \n",
       "3  8842281e1d1347389f2ab93d60773d4d  27161156   \n",
       "4  8842281e1d1347389f2ab93d60773d4d  25884323   \n",
       "\n",
       "                          review_id  rating  \\\n",
       "0  dfdbb7b0eb5a7e4c26d59a937e2e5feb       5   \n",
       "1  a5d2c3628987712d0e05c4f90798eb67       3   \n",
       "2  2ede853b14dc4583f96cf5d120af636f       3   \n",
       "3  ced5675e55cd9d38a524743f5c40996e       0   \n",
       "4  332732725863131279a8e345b63ac33e       4   \n",
       "\n",
       "                                         review_text  \\\n",
       "0  This is a special book. It started slow for ab...   \n",
       "1  Recommended by Don Katz. Avail for free in Dec...   \n",
       "2  A fun, fast paced science fiction thriller. I ...   \n",
       "3  Recommended reading to understand what is goin...   \n",
       "4  I really enjoyed this book, and there is a lot...   \n",
       "\n",
       "                       date_added                    date_updated  \\\n",
       "0  Sun Jul 30 07:44:10 -0700 2017  Wed Aug 30 00:00:26 -0700 2017   \n",
       "1  Mon Dec 05 10:46:44 -0800 2016  Wed Mar 22 11:37:04 -0700 2017   \n",
       "2  Tue Nov 15 11:29:22 -0800 2016  Mon Mar 20 23:40:27 -0700 2017   \n",
       "3  Wed Nov 09 17:37:04 -0800 2016  Wed Nov 09 17:38:20 -0800 2016   \n",
       "4  Mon Apr 25 09:31:23 -0700 2016  Mon Apr 25 09:31:23 -0700 2016   \n",
       "\n",
       "                          read_at                      started_at  n_votes  \\\n",
       "0  Sat Aug 26 12:05:52 -0700 2017  Tue Aug 15 13:23:18 -0700 2017       28   \n",
       "1                             NaN                             NaN        1   \n",
       "2  Sat Mar 18 23:22:42 -0700 2017  Fri Mar 17 23:45:40 -0700 2017       22   \n",
       "3                             NaN                             NaN        5   \n",
       "4  Sun Jun 26 00:00:00 -0700 2016  Sat May 28 00:00:00 -0700 2016        9   \n",
       "\n",
       "   n_comments  \n",
       "0           1  \n",
       "1           0  \n",
       "2           0  \n",
       "3           1  \n",
       "4           1  "
      ]
     },
     "execution_count": 2,
     "metadata": {},
     "output_type": "execute_result"
    }
   ],
   "source": [
    "df_train = pd.read_csv('../data/goodreads_train.csv')\n",
    "\n",
    "# First 5 rows of dataset\n",
    "df_train.head()"
   ]
  },
  {
   "cell_type": "code",
   "execution_count": 3,
   "id": "825c167e-b776-435e-96db-bdae39b25632",
   "metadata": {},
   "outputs": [
    {
     "name": "stdout",
     "output_type": "stream",
     "text": [
      "<class 'pandas.core.frame.DataFrame'>\n",
      "RangeIndex: 900000 entries, 0 to 899999\n",
      "Data columns (total 8 columns):\n",
      " #   Column        Non-Null Count   Dtype \n",
      "---  ------        --------------   ----- \n",
      " 0   rating        900000 non-null  int64 \n",
      " 1   review_text   900000 non-null  object\n",
      " 2   date_added    900000 non-null  object\n",
      " 3   date_updated  900000 non-null  object\n",
      " 4   read_at       808234 non-null  object\n",
      " 5   started_at    625703 non-null  object\n",
      " 6   n_votes       900000 non-null  int64 \n",
      " 7   n_comments    900000 non-null  int64 \n",
      "dtypes: int64(3), object(5)\n",
      "memory usage: 54.9+ MB\n"
     ]
    }
   ],
   "source": [
    "df_train.drop(['user_id', 'book_id', 'review_id'], axis=1, inplace=True)\n",
    "\n",
    "# sanity check\n",
    "df_train.info()"
   ]
  },
  {
   "cell_type": "markdown",
   "id": "820f585b-578e-4707-a90d-9cb3943fdfd8",
   "metadata": {},
   "source": [
    "### Text preprocessing"
   ]
  },
  {
   "cell_type": "code",
   "execution_count": 4,
   "id": "94ea031b-1e30-4662-bb63-6559eaa4a37f",
   "metadata": {},
   "outputs": [],
   "source": [
    "X = df_train['review_text']\n",
    "y = df_train['rating']\n",
    "\n",
    "# Split into train and test\n",
    "X_train, X_test, y_train, y_test = train_test_split(X, y, test_size=0.3, random_state=42)"
   ]
  },
  {
   "cell_type": "code",
   "execution_count": 5,
   "id": "5b804faf-c405-44e2-a0e6-3db6273c50cc",
   "metadata": {},
   "outputs": [
    {
     "data": {
      "text/plain": [
       "((630000,), (270000,))"
      ]
     },
     "execution_count": 5,
     "metadata": {},
     "output_type": "execute_result"
    }
   ],
   "source": [
    "X_train.shape, X_test.shape"
   ]
  },
  {
   "cell_type": "code",
   "execution_count": 6,
   "id": "4ccbc572-0fdb-48b5-a490-fbbd837c7685",
   "metadata": {},
   "outputs": [],
   "source": [
    "# Initialize CountVectorizer\n",
    "bow = CountVectorizer(stop_words='english', max_features=500)\n",
    "\n",
    "# Fit and transform the review columns\n",
    "X_train_vectorized = bow.fit_transform(X_train)\n",
    "X_test_vectorized = bow.transform(X_test)"
   ]
  },
  {
   "cell_type": "code",
   "execution_count": 7,
   "id": "1c8f194c-e9cd-461d-9244-b35b5383ef2f",
   "metadata": {},
   "outputs": [
    {
     "data": {
      "text/html": [
       "<div>\n",
       "<style scoped>\n",
       "    .dataframe tbody tr th:only-of-type {\n",
       "        vertical-align: middle;\n",
       "    }\n",
       "\n",
       "    .dataframe tbody tr th {\n",
       "        vertical-align: top;\n",
       "    }\n",
       "\n",
       "    .dataframe thead th {\n",
       "        text-align: right;\n",
       "    }\n",
       "</style>\n",
       "<table border=\"1\" class=\"dataframe\">\n",
       "  <thead>\n",
       "    <tr style=\"text-align: right;\">\n",
       "      <th></th>\n",
       "      <th>able</th>\n",
       "      <th>absolutely</th>\n",
       "      <th>action</th>\n",
       "      <th>actual</th>\n",
       "      <th>actually</th>\n",
       "      <th>admit</th>\n",
       "      <th>adult</th>\n",
       "      <th>age</th>\n",
       "      <th>ago</th>\n",
       "      <th>amazing</th>\n",
       "      <th>...</th>\n",
       "      <th>write</th>\n",
       "      <th>writing</th>\n",
       "      <th>written</th>\n",
       "      <th>wrong</th>\n",
       "      <th>ya</th>\n",
       "      <th>yeah</th>\n",
       "      <th>year</th>\n",
       "      <th>years</th>\n",
       "      <th>yes</th>\n",
       "      <th>young</th>\n",
       "    </tr>\n",
       "  </thead>\n",
       "  <tbody>\n",
       "    <tr>\n",
       "      <th>0</th>\n",
       "      <td>0</td>\n",
       "      <td>0</td>\n",
       "      <td>0</td>\n",
       "      <td>0</td>\n",
       "      <td>0</td>\n",
       "      <td>0</td>\n",
       "      <td>0</td>\n",
       "      <td>0</td>\n",
       "      <td>0</td>\n",
       "      <td>0</td>\n",
       "      <td>...</td>\n",
       "      <td>0</td>\n",
       "      <td>0</td>\n",
       "      <td>0</td>\n",
       "      <td>0</td>\n",
       "      <td>0</td>\n",
       "      <td>0</td>\n",
       "      <td>0</td>\n",
       "      <td>0</td>\n",
       "      <td>0</td>\n",
       "      <td>0</td>\n",
       "    </tr>\n",
       "    <tr>\n",
       "      <th>1</th>\n",
       "      <td>0</td>\n",
       "      <td>0</td>\n",
       "      <td>0</td>\n",
       "      <td>0</td>\n",
       "      <td>1</td>\n",
       "      <td>0</td>\n",
       "      <td>0</td>\n",
       "      <td>0</td>\n",
       "      <td>0</td>\n",
       "      <td>0</td>\n",
       "      <td>...</td>\n",
       "      <td>0</td>\n",
       "      <td>0</td>\n",
       "      <td>0</td>\n",
       "      <td>0</td>\n",
       "      <td>0</td>\n",
       "      <td>0</td>\n",
       "      <td>0</td>\n",
       "      <td>0</td>\n",
       "      <td>0</td>\n",
       "      <td>0</td>\n",
       "    </tr>\n",
       "    <tr>\n",
       "      <th>2</th>\n",
       "      <td>0</td>\n",
       "      <td>0</td>\n",
       "      <td>0</td>\n",
       "      <td>0</td>\n",
       "      <td>0</td>\n",
       "      <td>0</td>\n",
       "      <td>0</td>\n",
       "      <td>0</td>\n",
       "      <td>0</td>\n",
       "      <td>0</td>\n",
       "      <td>...</td>\n",
       "      <td>0</td>\n",
       "      <td>0</td>\n",
       "      <td>0</td>\n",
       "      <td>0</td>\n",
       "      <td>0</td>\n",
       "      <td>0</td>\n",
       "      <td>0</td>\n",
       "      <td>0</td>\n",
       "      <td>0</td>\n",
       "      <td>0</td>\n",
       "    </tr>\n",
       "    <tr>\n",
       "      <th>3</th>\n",
       "      <td>0</td>\n",
       "      <td>0</td>\n",
       "      <td>0</td>\n",
       "      <td>0</td>\n",
       "      <td>0</td>\n",
       "      <td>0</td>\n",
       "      <td>0</td>\n",
       "      <td>0</td>\n",
       "      <td>0</td>\n",
       "      <td>0</td>\n",
       "      <td>...</td>\n",
       "      <td>0</td>\n",
       "      <td>0</td>\n",
       "      <td>0</td>\n",
       "      <td>0</td>\n",
       "      <td>0</td>\n",
       "      <td>0</td>\n",
       "      <td>0</td>\n",
       "      <td>0</td>\n",
       "      <td>0</td>\n",
       "      <td>0</td>\n",
       "    </tr>\n",
       "    <tr>\n",
       "      <th>4</th>\n",
       "      <td>0</td>\n",
       "      <td>0</td>\n",
       "      <td>0</td>\n",
       "      <td>0</td>\n",
       "      <td>0</td>\n",
       "      <td>0</td>\n",
       "      <td>1</td>\n",
       "      <td>0</td>\n",
       "      <td>0</td>\n",
       "      <td>0</td>\n",
       "      <td>...</td>\n",
       "      <td>0</td>\n",
       "      <td>0</td>\n",
       "      <td>0</td>\n",
       "      <td>0</td>\n",
       "      <td>0</td>\n",
       "      <td>0</td>\n",
       "      <td>1</td>\n",
       "      <td>1</td>\n",
       "      <td>0</td>\n",
       "      <td>0</td>\n",
       "    </tr>\n",
       "  </tbody>\n",
       "</table>\n",
       "<p>5 rows × 500 columns</p>\n",
       "</div>"
      ],
      "text/plain": [
       "   able  absolutely  action  actual  actually  admit  adult  age  ago  \\\n",
       "0     0           0       0       0         0      0      0    0    0   \n",
       "1     0           0       0       0         1      0      0    0    0   \n",
       "2     0           0       0       0         0      0      0    0    0   \n",
       "3     0           0       0       0         0      0      0    0    0   \n",
       "4     0           0       0       0         0      0      1    0    0   \n",
       "\n",
       "   amazing  ...  write  writing  written  wrong  ya  yeah  year  years  yes  \\\n",
       "0        0  ...      0        0        0      0   0     0     0      0    0   \n",
       "1        0  ...      0        0        0      0   0     0     0      0    0   \n",
       "2        0  ...      0        0        0      0   0     0     0      0    0   \n",
       "3        0  ...      0        0        0      0   0     0     0      0    0   \n",
       "4        0  ...      0        0        0      0   0     0     1      1    0   \n",
       "\n",
       "   young  \n",
       "0      0  \n",
       "1      0  \n",
       "2      0  \n",
       "3      0  \n",
       "4      0  \n",
       "\n",
       "[5 rows x 500 columns]"
      ]
     },
     "execution_count": 7,
     "metadata": {},
     "output_type": "execute_result"
    }
   ],
   "source": [
    "# convert sparse matrix into dataframe\n",
    "# Source(https://pandas.pydata.org/pandas-docs/stable/reference/api/pandas.DataFrame.sparse.from_spmatrix.html)\n",
    "X_train_dense = pd.DataFrame.sparse.from_spmatrix(X_train_vectorized, columns=bow.get_feature_names_out()).sparse.to_dense()\n",
    "X_test_dense = pd.DataFrame.sparse.from_spmatrix(X_test_vectorized, columns=bow.get_feature_names_out()).sparse.to_dense()\n",
    "\n",
    "# First 5 rows of training data\n",
    "X_train_dense.head()"
   ]
  },
  {
   "cell_type": "markdown",
   "id": "ac875e4e-8ac8-4ac4-be53-5443e76fca8d",
   "metadata": {},
   "source": [
    "### Decision Tree\n",
    "\n",
    "Let's instantiate Decision Tree"
   ]
  },
  {
   "cell_type": "code",
   "execution_count": 8,
   "id": "fddc15b6-c913-4b5a-971e-28bb9c6404e7",
   "metadata": {},
   "outputs": [
    {
     "name": "stdout",
     "output_type": "stream",
     "text": [
      "Train score: 0.9712968253968254\n",
      "Test score: 0.3587814814814815\n"
     ]
    }
   ],
   "source": [
    "dt = DecisionTreeClassifier()\n",
    "\n",
    "dt.fit(X_train_dense, y_train)\n",
    "\n",
    "print(f\"Train score: {dt.score(X_train_dense, y_train)}\")\n",
    "print(f\"Test score: {dt.score(X_test_dense, y_test)}\")"
   ]
  },
  {
   "cell_type": "markdown",
   "id": "06602794-0530-43ae-98a1-09b5fa8d4ab6",
   "metadata": {},
   "source": [
    "Train score is good. We can see there's a heavy overfit between the train and test scores. Let's visualize the max_depth to see where it overfits. "
   ]
  },
  {
   "cell_type": "code",
   "execution_count": 11,
   "id": "8a1714d4-7ec8-4dd3-ae9f-2500e472dd6f",
   "metadata": {},
   "outputs": [],
   "source": [
    "max_depth = [10, 20, 30, 40, 50]\n",
    "train_scores = []\n",
    "test_scores = []\n",
    "\n",
    "for i in max_depth:\n",
    "    dt = DecisionTreeClassifier(max_depth=i)\n",
    "    dt.fit(X_train_dense, y_train)\n",
    "\n",
    "    train_scores.append(dt.score(X_train_dense, y_train))\n",
    "    test_scores.append(dt.score(X_test_dense, y_test))"
   ]
  },
  {
   "cell_type": "code",
   "execution_count": 12,
   "id": "7f723a76-6638-4dda-999f-de836f34a98b",
   "metadata": {},
   "outputs": [
    {
     "data": {
      "image/png": "[encoded data removed]",
      "text/plain": [
       "<Figure size 640x480 with 1 Axes>"
      ]
     },
     "metadata": {},
     "output_type": "display_data"
    }
   ],
   "source": [
    "plt.figure()\n",
    "plt.plot(max_depth, train_scores, label='train')\n",
    "plt.plot(max_depth, test_scores, label='test')\n",
    "plt.title('Train & Test Scores')\n",
    "plt.xlabel('max_depth')\n",
    "plt.ylabel('Score')\n",
    "plt.legend()\n",
    "plt.show()"
   ]
  },
  {
   "cell_type": "code",
   "execution_count": 13,
   "id": "d8c90f4c-c85a-49f0-8223-e31c138b77e6",
   "metadata": {},
   "outputs": [],
   "source": [
    "max_depth = [5, 10, 15, 20]\n",
    "train_scores = []\n",
    "test_scores = []\n",
    "f1_scores = []\n",
    "\n",
    "for i in max_depth:\n",
    "    dt = DecisionTreeClassifier(max_depth=i)\n",
    "    dt.fit(X_train_dense, y_train)\n",
    "\n",
    "    train_scores.append(dt.score(X_train_dense, y_train))\n",
    "    test_scores.append(dt.score(X_test_dense, y_test))\n",
    "    \n",
    "    y_pred = dt.predict(X_test_dense)\n",
    "    f1_scores.append(f1_score(y_test, y_pred, average='micro'))"
   ]
  },
  {
   "cell_type": "code",
   "execution_count": 14,
   "id": "d551ef2e-85f7-4e36-b457-31e6a05f484f",
   "metadata": {},
   "outputs": [
    {
     "data": {
      "image/png": "[encoded data removed]",
      "text/plain": [
       "<Figure size 640x480 with 1 Axes>"
      ]
     },
     "metadata": {},
     "output_type": "display_data"
    }
   ],
   "source": [
    "plt.figure()\n",
    "plt.plot(max_depth, train_scores, label='train')\n",
    "plt.plot(max_depth, test_scores, label='test')\n",
    "plt.title('Train & Test Scores')\n",
    "plt.xlabel('max_depth')\n",
    "plt.ylabel('Score')\n",
    "plt.legend()\n",
    "plt.show()"
   ]
  },
  {
   "cell_type": "code",
   "execution_count": 15,
   "id": "827e746d-74a7-424a-bfe0-7af4b858498a",
   "metadata": {},
   "outputs": [
    {
     "data": {
      "image/png": "[encoded data removed]",
      "text/plain": [
       "<Figure size 640x480 with 1 Axes>"
      ]
     },
     "metadata": {},
     "output_type": "display_data"
    }
   ],
   "source": [
    "plt.figure()\n",
    "plt.plot(max_depth, f1_scores, label='f1score')\n",
    "plt.ylabel('Score')\n",
    "plt.legend()\n",
    "plt.show()"
   ]
  },
  {
   "cell_type": "code",
   "execution_count": null,
   "id": "182f2d1d-7788-46c1-95d3-e42849cd8673",
   "metadata": {},
   "outputs": [],
   "source": [
    "min_samples_split = [50, 60, 70]\n",
    "train_scores = []\n",
    "test_scores = []\n",
    "f1_scores = []\n",
    "\n",
    "for i in min_samples_split:\n",
    "    dt = DecisionTreeClassifier(max_depth=10, min_samples_split=i)\n",
    "    dt.fit(X_train_dense, y_train)\n",
    "\n",
    "    train_scores.append(dt.score(X_train_dense, y_train))\n",
    "    test_scores.append(dt.score(X_test_dense, y_test))\n",
    "    \n",
    "    y_pred = dt.predict(X_test_dense)\n",
    "    f1_scores.append(f1_score(y_test, y_pred, average='micro'))"
   ]
  },
  {
   "cell_type": "code",
   "execution_count": null,
   "id": "3f407424-041a-4f29-9487-7a51b4a061fb",
   "metadata": {},
   "outputs": [],
   "source": [
    "plt.figure()\n",
    "plt.plot(min_samples_split, train_scores, label='train')\n",
    "plt.plot(min_samples_split, test_scores, label='test')\n",
    "plt.title('Train & Test Scores')\n",
    "plt.xlabel('max_depth')\n",
    "plt.ylabel('Score')\n",
    "plt.legend()\n",
    "plt.show()"
   ]
  },
  {
   "cell_type": "code",
   "execution_count": null,
   "id": "0306156a-ab30-44e7-b4fe-21473e26f8a8",
   "metadata": {},
   "outputs": [],
   "source": []
  }
 ],
 "metadata": {
  "kernelspec": {
   "display_name": "Python 3 (ipykernel)",
   "language": "python",
   "name": "python3"
  },
  "language_info": {
   "codemirror_mode": {
    "name": "ipython",
    "version": 3
   },
   "file_extension": ".py",
   "mimetype": "text/x-python",
   "name": "python",
   "nbconvert_exporter": "python",
   "pygments_lexer": "ipython3",
   "version": "3.11.8"
  }
 },
 "nbformat": 4,
 "nbformat_minor": 5
}
